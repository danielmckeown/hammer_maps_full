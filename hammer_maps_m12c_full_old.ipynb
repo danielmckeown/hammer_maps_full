{
 "cells": [
  {
   "cell_type": "code",
   "execution_count": 1,
   "metadata": {},
   "outputs": [
    {
     "ename": "NameError",
     "evalue": "name 'np' is not defined",
     "output_type": "error",
     "traceback": [
      "\u001b[0;31m---------------------------------------------------------------------------\u001b[0m",
      "\u001b[0;31mNameError\u001b[0m                                 Traceback (most recent call last)",
      "\u001b[0;32m<ipython-input-1-a83200c824e4>\u001b[0m in \u001b[0;36m<module>\u001b[0;34m\u001b[0m\n\u001b[0;32m----> 1\u001b[0;31m \u001b[0mprint\u001b[0m\u001b[0;34m(\u001b[0m\u001b[0mnp\u001b[0m\u001b[0;34m.\u001b[0m\u001b[0msum\u001b[0m\u001b[0;34m(\u001b[0m\u001b[0;34m[\u001b[0m\u001b[0;36m1\u001b[0m\u001b[0;34m,\u001b[0m\u001b[0;36m2\u001b[0m\u001b[0;34m,\u001b[0m\u001b[0;34m-\u001b[0m\u001b[0;36m3\u001b[0m\u001b[0;34m,\u001b[0m\u001b[0;36m4\u001b[0m\u001b[0;34m,\u001b[0m\u001b[0;34m-\u001b[0m\u001b[0;36m5\u001b[0m\u001b[0;34m,\u001b[0m\u001b[0;36m6\u001b[0m\u001b[0;34m]\u001b[0m\u001b[0;34m)\u001b[0m\u001b[0;34m)\u001b[0m\u001b[0;34m\u001b[0m\u001b[0;34m\u001b[0m\u001b[0m\n\u001b[0m",
      "\u001b[0;31mNameError\u001b[0m: name 'np' is not defined"
     ]
    }
   ],
   "source": [
    "print(np.sum([1,2,-3,4,-5,6]))"
   ]
  },
  {
   "cell_type": "code",
   "execution_count": 2,
   "metadata": {},
   "outputs": [
    {
     "ename": "NameError",
     "evalue": "name 'np' is not defined",
     "output_type": "error",
     "traceback": [
      "\u001b[0;31m---------------------------------------------------------------------------\u001b[0m",
      "\u001b[0;31mNameError\u001b[0m                                 Traceback (most recent call last)",
      "\u001b[0;32m<ipython-input-2-b9dc60362221>\u001b[0m in \u001b[0;36m<module>\u001b[0;34m\u001b[0m\n\u001b[1;32m     12\u001b[0m \u001b[0;34m\u001b[0m\u001b[0m\n\u001b[1;32m     13\u001b[0m \u001b[0mq\u001b[0m \u001b[0;34m=\u001b[0m \u001b[0;34m[\u001b[0m\u001b[0;36m3\u001b[0m\u001b[0;34m,\u001b[0m\u001b[0;36m4\u001b[0m\u001b[0;34m,\u001b[0m\u001b[0;36m5\u001b[0m\u001b[0;34m]\u001b[0m\u001b[0;34m\u001b[0m\u001b[0;34m\u001b[0m\u001b[0m\n\u001b[0;32m---> 14\u001b[0;31m \u001b[0mq\u001b[0m \u001b[0;34m=\u001b[0m \u001b[0mnp\u001b[0m\u001b[0;34m.\u001b[0m\u001b[0masarray\u001b[0m\u001b[0;34m(\u001b[0m\u001b[0mq\u001b[0m\u001b[0;34m)\u001b[0m\u001b[0;34m\u001b[0m\u001b[0;34m\u001b[0m\u001b[0m\n\u001b[0m\u001b[1;32m     15\u001b[0m \u001b[0mprint\u001b[0m \u001b[0;34m(\u001b[0m\u001b[0mq\u001b[0m \u001b[0;34m*\u001b[0m \u001b[0mq\u001b[0m\u001b[0;34m)\u001b[0m\u001b[0;34m\u001b[0m\u001b[0;34m\u001b[0m\u001b[0m\n",
      "\u001b[0;31mNameError\u001b[0m: name 'np' is not defined"
     ]
    }
   ],
   "source": [
    "\n",
    "vx  = [ 7, 59, 46 , 12, 96, 8 , 46, 76 , 68, 87,107,78, 91,34, 107, 60, 110 ,70, 86 ,115 ,42 ,45, 99 ,56,59 ,39,51,121,45,33,118 ,113]\n",
    "\n",
    "\n",
    "\n",
    "vy = [ 49, 31,80,43 ,46,32,18,16 ,41, 25,36 ,21 ,61 ,80 ,50 ,43,73,25,108,49,86 ,22 ,30,121,37 ,88 ,95,56,123 ,80 ,53,83]\n",
    "\n",
    "\n",
    "\n",
    "vz = [ 73,73, 25, 68, 91, 34, 9,64,107,44, 22, 44, 91, 85, 99, 106, 17, 61, 42, 22, 69, 74, 50, 104, 89, 61, 41, 28, 33, 127, 35, 97]\n",
    "\n",
    "\n",
    "q = [3,4,5]\n",
    "q = np.asarray(q)\n",
    "print (q * q)"
   ]
  },
  {
   "cell_type": "code",
   "execution_count": 3,
   "metadata": {},
   "outputs": [
    {
     "name": "stdout",
     "output_type": "stream",
     "text": [
      "printing all velocities\n",
      "[[7, 49, 73], [59, 31, 73], [46, 80, 25], [12, 43, 68], [96, 46, 91], [8, 32, 34], [46, 18, 9], [76, 16, 64], [68, 41, 107], [87, 25, 44], [107, 36, 22], [78, 21, 44], [91, 61, 91], [34, 80, 85], [107, 50, 99], [60, 43, 106], [110, 73, 17], [70, 25, 61], [86, 108, 42], [115, 49, 22], [42, 86, 69], [45, 22, 74], [99, 30, 50], [56, 121, 104], [59, 37, 89], [39, 88, 61], [51, 95, 41], [121, 56, 28], [45, 123, 33], [33, 80, 127], [118, 53, 35], [113, 83, 97]]\n"
     ]
    },
    {
     "ename": "NameError",
     "evalue": "name 'np' is not defined",
     "output_type": "error",
     "traceback": [
      "\u001b[0;31m---------------------------------------------------------------------------\u001b[0m",
      "\u001b[0;31mNameError\u001b[0m                                 Traceback (most recent call last)",
      "\u001b[0;32m<ipython-input-3-c50893cdc242>\u001b[0m in \u001b[0;36m<module>\u001b[0;34m\u001b[0m\n\u001b[1;32m     20\u001b[0m \u001b[0;34m\u001b[0m\u001b[0m\n\u001b[1;32m     21\u001b[0m \u001b[0;34m\u001b[0m\u001b[0m\n\u001b[0;32m---> 22\u001b[0;31m \u001b[0mvel\u001b[0m \u001b[0;34m=\u001b[0m \u001b[0mnp\u001b[0m\u001b[0;34m.\u001b[0m\u001b[0masarray\u001b[0m\u001b[0;34m(\u001b[0m\u001b[0mvel\u001b[0m\u001b[0;34m)\u001b[0m\u001b[0;34m\u001b[0m\u001b[0;34m\u001b[0m\u001b[0m\n\u001b[0m\u001b[1;32m     23\u001b[0m \u001b[0;34m\u001b[0m\u001b[0m\n\u001b[1;32m     24\u001b[0m \u001b[0mv_av\u001b[0m \u001b[0;34m=\u001b[0m \u001b[0mvel\u001b[0m\u001b[0;34m.\u001b[0m\u001b[0mmean\u001b[0m\u001b[0;34m(\u001b[0m\u001b[0maxis\u001b[0m\u001b[0;34m=\u001b[0m\u001b[0;36m0\u001b[0m\u001b[0;34m)\u001b[0m\u001b[0;34m\u001b[0m\u001b[0;34m\u001b[0m\u001b[0m\n",
      "\u001b[0;31mNameError\u001b[0m: name 'np' is not defined"
     ]
    }
   ],
   "source": [
    "#vx = [7, 49, 46, 32, 46, 38, 66, 26,58, 67, 77, 38, 61, 24,77,20,50, 50,46,75 ,32,45,29,26,29,89,81, 51, 85,53, 48,33 ]\n",
    "\n",
    "#vy = [13, 13, 20, 39, 12, 28, 32, 14, 13, 39, 48, 15, 21, 52,  40, 59, 37, 27, 30, 35, 34, 56, 32, 63, 59, 28, 27, 52, 65, 52, 39, 75]\n",
    "\n",
    "#vz = [ 73 , 73 ,25 , 68, 91, 34, 9,64, 107, 44, 22,44, 91, 85, 99, 106, 17, 61, 42,22,69,74, 50, 104, 89, 61, 41, 28, 33,127, 35,97]\n",
    "\n",
    "vel = [] \n",
    "\n",
    "for i in range(0, len(vx)):\n",
    "    \n",
    "    v = [  vx[i], vy[i],vz[i] ]\n",
    "    \n",
    "    vel.insert(i,v)\n",
    "\n",
    "print ('printing all velocities')\n",
    "print (vel)\n",
    "\n",
    "\n",
    "#####  Now we have our array of velocity arrays, lets do some work on them\n",
    "\n",
    "\n",
    "vel = np.asarray(vel)\n",
    "\n",
    "v_av = vel.mean(axis=0)\n",
    "#print ('printing v_av')\n",
    "#print(v_av)\n",
    "#print('printing range vx')\n",
    "#print(range(31))\n",
    "\n",
    "\n",
    "v_difference = []\n",
    "v_difference_sq = []\n",
    "v_difference_4 = []\n",
    "\n",
    "\n",
    "for i in range(0, 32):\n",
    "    \n",
    "    v_dif = [  vx[0] - vx[i  ] , vy[0]  - vy[i ]  ,vz[0] - vz[i  ] ]\n",
    "    v_dif = np.asarray(v_dif)\n",
    "    v_dif_mag = np.sqrt(  (v_dif[0])**2  + (v_dif[1])**2 + (v_dif[2])**2 )\n",
    "    \n",
    " \n",
    "    \n",
    "    v_difference.insert(i,v_dif_mag)\n",
    "\n",
    "v_difference = np.asarray(v_difference)\n",
    "\n",
    "\n",
    "\n",
    "average_difference   = v_difference.mean(axis=0)\n",
    "average_difference_2 = average_difference**2\n",
    "average_difference_4 = average_difference**4\n",
    "\n",
    "print('printing average difference 2 and 4th')\n",
    "print (average_difference, average_difference_2,average_difference_4)\n",
    "#print('printing difference')\n",
    "#print(v_difference)\n",
    "\n",
    "\n",
    "\n",
    "diff = vel - v_av   \n",
    "\n",
    "#print ('printing diff')\n",
    "#print (diff)\n",
    "\n",
    "diff_sq = [] \n",
    "\n",
    "\n",
    "\n",
    "for i in range(0, len(vx) ):\n",
    "    \n",
    "    v_sq = diff[i] * diff[i] \n",
    "    diff_sq.insert(i,v_sq)\n",
    "    \n",
    "\n",
    "\n",
    "diff_sq = np.asarray(diff_sq)\n",
    "#print (np.var(diff))\n",
    "\n",
    "var = np.var(diff, axis=0)\n",
    "print ('printing diff sq')\n",
    "\n",
    "print(diff_sq)\n",
    "#print (np.sum(diff_sq/32))\n",
    "\n",
    "#print(np.sum(var))\n",
    "dispersion = np.sqrt(np.sum(var))\n",
    "\n",
    "print('ratio squared') \n",
    "\n",
    "\n",
    "print( average_difference_2 / (2 * (dispersion)**2)  ) \n",
    "print ('the two')\n",
    "print(average_difference_2)\n",
    "print( (2 * (dispersion)**2)  )\n",
    "print ('printing disp')\n",
    "print( 2 * (dispersion)**2 )\n",
    "print ( 5931.029297 / 5840.211914)\n",
    "\n",
    "\n",
    "\n",
    "print('ratio 4th' )\n",
    "\n",
    "\n",
    "print( average_difference_4 / ((48/9) * (dispersion)**4) )"
   ]
  },
  {
   "cell_type": "code",
   "execution_count": 21,
   "metadata": {},
   "outputs": [],
   "source": [
    "# Now calculate the dispersion the long way \n",
    "\n",
    "\n",
    "\n",
    "\n"
   ]
  },
  {
   "cell_type": "code",
   "execution_count": null,
   "metadata": {},
   "outputs": [],
   "source": []
  },
  {
   "cell_type": "code",
   "execution_count": 22,
   "metadata": {},
   "outputs": [
    {
     "data": {
      "text/html": [
       "<style>.container { width:100% !important; }</style>"
      ],
      "text/plain": [
       "<IPython.core.display.HTML object>"
      ]
     },
     "metadata": {},
     "output_type": "display_data"
    }
   ],
   "source": [
    "from IPython.core.display import display, HTML\n",
    "display(HTML(\"<style>.container { width:100% !important; }</style>\"))"
   ]
  },
  {
   "cell_type": "markdown",
   "metadata": {},
   "source": [
    "# NOTES : Outline of all functions in order and useage "
   ]
  },
  {
   "cell_type": "markdown",
   "metadata": {},
   "source": [
    "### Function that loads in any coordinate velocity and mass data of a given halo and returns these as numpy array and saved .npy files"
   ]
  },
  {
   "cell_type": "markdown",
   "metadata": {},
   "source": [
    "### Function that Creates radial bins and denisty hist values for a simple rho(r) plot, and also make V_dispersion Profile. These radial bins are later used to make V_disperison as well"
   ]
  },
  {
   "cell_type": "markdown",
   "metadata": {},
   "source": [
    "### NOTE:  Make sure radial bins are reset so that they are in the binning value in the middle of the bin"
   ]
  },
  {
   "cell_type": "markdown",
   "metadata": {},
   "source": [
    "# remember to plot the values at the middle of the bin (not the edges)"
   ]
  },
  {
   "cell_type": "markdown",
   "metadata": {},
   "source": [
    "## Set the halo to be loaded for analysis"
   ]
  },
  {
   "cell_type": "code",
   "execution_count": 23,
   "metadata": {},
   "outputs": [],
   "source": [
    "halo = 'm12c'   "
   ]
  },
  {
   "cell_type": "code",
   "execution_count": 24,
   "metadata": {},
   "outputs": [],
   "source": [
    "%matplotlib inline\n",
    "import numpy as np\n",
    "from random import seed\n",
    "from random import random\n",
    "import matplotlib.pyplot as plt\n",
    "from scipy.interpolate import interp1d\n",
    "import scipy.integrate as integrate\n",
    "import matplotlib as mpl\n",
    "\n",
    "# Must use aitoff module from Case Western\n",
    "import aitoff as at\n",
    "from matplotlib.backends.backend_pdf import PdfPages\n",
    "d = 8.3   # kpc\n",
    "conversion =  ( (1.989e30  * 5.586792179e26) **2 /  ((3.086e21)**5  )  )  # Conversion from Solar masses to particle physics units\n",
    "plot_bins = 80\n",
    "\n",
    "path = \"/Users/danmckeown/\" # path\n",
    "\n",
    "my_rad = 300.0"
   ]
  },
  {
   "cell_type": "markdown",
   "metadata": {},
   "source": [
    "# Functions "
   ]
  },
  {
   "cell_type": "markdown",
   "metadata": {},
   "source": [
    "# 1). "
   ]
  },
  {
   "cell_type": "code",
   "execution_count": 25,
   "metadata": {},
   "outputs": [],
   "source": [
    "def make_coords(coord_file,mass,velocities,mult_by):\n",
    "    \n",
    "    x = coord_file[:,0]\n",
    "    y = coord_file[:,1]\n",
    "    z = coord_file[:,2]  \n",
    "            \n",
    "    radius = np.sqrt(x*x + y*y  + z*z  )\n",
    "    mask = radius <= my_rad\n",
    "    radius_final = radius[mask]\n",
    "    velocities_final = velocities[mask]\n",
    "    velocities_final = np.asarray( velocities_final)\n",
    "    part_mass = mass[0] * mult_by\n",
    "    new_mass = np.zeros(len(radius_final))\n",
    "    new_mass[:] = part_mass        \n",
    "    x = x[mask]\n",
    "    y = y[mask]\n",
    "    z = z[mask]  \n",
    "    #return x,y,z,radius_final,new_mass,part_mass        \n",
    "    return x,y,z,radius_final,new_mass,velocities_final,part_mass"
   ]
  },
  {
   "cell_type": "markdown",
   "metadata": {},
   "source": [
    "# 2). "
   ]
  },
  {
   "cell_type": "code",
   "execution_count": 26,
   "metadata": {},
   "outputs": [],
   "source": [
    "def make_hist(radius,chosen_bins, masses, total_distance ):\n",
    "    hist, bin_edges = np.histogram(radius, bins = chosen_bins, weights = masses, range = [0,total_distance])\n",
    "    #...For Density plot                                                                                                                                                                        \n",
    "    Vol = np.zeros(len(hist))\n",
    "    for j in range(0, len(hist)):\n",
    "        Vol[j] = 4.0/3.0* np.pi * (chosen_bins[j +1]**3 - chosen_bins[j]**3)\n",
    "    \n",
    "    # function adds an extra element we need to delete                                                                                                                                          \n",
    "    chosen_bins_new = chosen_bins #chosen_bins[:-1]\n",
    "    Den = list(map(truediv, hist, Vol))\n",
    "    chosen_bins_new = np.asarray(chosen_bins_new)\n",
    "    # Select the midpoint of each radial bin to plot\n",
    "    chosen_bins_final =  (    chosen_bins_new[1:] + chosen_bins_new[:-1]) / 2.0 \n",
    "    Den = np.asarray(Den)\n",
    "    return chosen_bins_final,Den"
   ]
  },
  {
   "cell_type": "markdown",
   "metadata": {},
   "source": [
    "# 3)."
   ]
  },
  {
   "cell_type": "code",
   "execution_count": 27,
   "metadata": {},
   "outputs": [],
   "source": [
    "def make_velocities(velocities,radius,radial_bins,mult_by_vel):\n",
    "    \n",
    "    v_xav_dark = np.sum((velocities[:,0])) / ( len(velocities))\n",
    "    v_yav_dark = np.sum((velocities[:,1])) / ( len(velocities))\n",
    "    v_zav_dark = np.sum((velocities[:,2])) / ( len(velocities))\n",
    "\n",
    "    v_av = [v_xav_dark,v_yav_dark,v_zav_dark ]\n",
    "\n",
    "    velocities = velocities - v_av\n",
    "    \n",
    "    v_x = velocities[:,0]\n",
    "    v_y = velocities[:,1]\n",
    "    v_z = velocities[:,2]\n",
    "    \n",
    "    v_xav_dark = np.sum((velocities[:,0])) / ( len(velocities))\n",
    "    v_yav_dark = np.sum((velocities[:,1])) / ( len(velocities))\n",
    "    v_zav_dark = np.sum((velocities[:,2])) / ( len(velocities))\n",
    "\n",
    "    v_av = [v_xav_dark,v_yav_dark,v_zav_dark ]\n",
    "\n",
    "    dispersion = np.zeros(radial_bins.size - 1)\n",
    " #   radial_bins = radial_bins[:-1]\n",
    "    radial_bins_final =  ( radial_bins[1:] + radial_bins[:-1]) / 2.0 \n",
    "    \n",
    "    for i in range(1, len(radial_bins)): # Start at i = 1 since we're making shells                                                                                                                                                                        \n",
    "     #   print (len(radius_dark),radial_bins_dark[i-1],radial_bins_dark[i]  )\n",
    "        mask = (radius >  radial_bins[i-1]) & (radius < radial_bins[i])\n",
    "        v_avg_dark = velocities[mask].mean(axis=0)\n",
    "        difference_dark = velocities[mask] - v_avg_dark\n",
    "        coord_var_dark = np.var(difference_dark, axis=0)\n",
    "        dispersion[i-1] = np.sqrt(np.sum(coord_var_dark)) * mult_by_vel   \n",
    "    return v_av,radial_bins_final,dispersion, v_x , v_y , v_z\n",
    "\n"
   ]
  },
  {
   "cell_type": "markdown",
   "metadata": {},
   "source": [
    "# 4). "
   ]
  },
  {
   "cell_type": "code",
   "execution_count": 28,
   "metadata": {},
   "outputs": [],
   "source": [
    "\n",
    "\n",
    "\n",
    "\n",
    "\n",
    "def local_density_weighting(file_name, radius, bin_edges,Den):\n",
    "\n",
    "    rho_local = []\n",
    "    #file_name = \"rho_local_dm_m12i_new.npy\"\n",
    "\n",
    "    for i in range(len(radius)):\n",
    "\n",
    "        local_d = (np.interp(radius[i] , bin_edges, Den, left= np.max(Den), right = np.min(Den), period=None))\n",
    "        rho_local.insert( i, local_d )\n",
    "\n",
    "    np.save(path+\"/\"+file_name+'.npy',rho_local)\n",
    "    return rho_local\n",
    "    "
   ]
  },
  {
   "cell_type": "markdown",
   "metadata": {},
   "source": [
    "# 5)."
   ]
  },
  {
   "cell_type": "code",
   "execution_count": 29,
   "metadata": {},
   "outputs": [],
   "source": [
    "def local_velocity_disp_weighting(file_name, radius, bin_edges, dispersion_sq):\n",
    "    vel_disp_local_p = []\n",
    "    #file_name = 'vel_disp_local_p'+ str(halo)\n",
    "    length = len(dispersion_sq)\n",
    "    final_value = length - 1\n",
    "    for i in range(len(radius )):\n",
    "         # Change radial_bins_dark to radial_bins_dark_half_way   , for left , assign the dispersion that is at smallest radii , then right should be value of dispersion at largest radii\n",
    "        local_vel_p = (np.interp(radius[i] , bin_edges, dispersion_sq, left= dispersion_sq[0] , right= dispersion_sq[final_value], period=None))\n",
    "        \n",
    "        local_vel_p = ((local_vel_p) /( 2.99792458e5)**2 )        \n",
    "\n",
    "        vel_disp_local_p.insert( i, local_vel_p )\n",
    "\n",
    "    np.save(path+\"/\"+file_name+'.npy',vel_disp_local_p)\n",
    "    return vel_disp_local_p\n",
    "#vel_dm_only_p_wave = local_velocity_disp_weighting(dm_only_file_name_p, radius_dark, radial_bins_dark,dispersion_dark_sq)"
   ]
  },
  {
   "cell_type": "markdown",
   "metadata": {},
   "source": [
    "# 6). "
   ]
  },
  {
   "cell_type": "code",
   "execution_count": 30,
   "metadata": {},
   "outputs": [],
   "source": [
    "def local_velocity_disp_weighting_d_wave(file_name, radius, bin_edges, dispersion_fourth):\n",
    "\n",
    "\n",
    "    vel_disp_D_WAVE = []\n",
    "    length = len(dispersion_fourth)\n",
    "    final_value = length - 1    \n",
    "   \n",
    "    for i in range(len(radius )):\n",
    "\n",
    "        local_vel_d = (np.interp(radius[i] , bin_edges, dispersion, left= dispersion_fourth[0], right= dispersion_fourth[final_value], period=None))\n",
    "        local_vel_d = ((local_vel_d) /( 2.99792458e5)**4 )\n",
    "\n",
    "        vel_disp_D_WAVE.insert( i, local_vel_d )\n",
    "\n",
    "    np.save(path+\"/\"+file_name+'.npy',vel_disp_D_WAVE)\n",
    "    return vel_disp_D_WAVE"
   ]
  },
  {
   "cell_type": "markdown",
   "metadata": {},
   "source": [
    "# 7). "
   ]
  },
  {
   "cell_type": "code",
   "execution_count": 31,
   "metadata": {},
   "outputs": [],
   "source": [
    "def coord_trans( x,y,z,d,weights ):\n",
    "\n",
    "    x = (x + d)\n",
    "    \n",
    "    Phi = np.arctan2(y ,x)\n",
    "    radius = np.sqrt(( x  )*(  x ) + (y )* (y ) + (z )*(z  ) )        \n",
    "    u = (z  )  / ( radius )\n",
    "    Theta = np.arccos(u)\n",
    "    \n",
    "    Cos_Psi = (x) /(radius)\n",
    "    \n",
    "    a = 0.4\n",
    "    # a is the softening length.  \n",
    "    \n",
    "    Angle_weighting =  ( weights) /  (radius + a)**2    # Weights can either be in terms of rho* density  or rho*density *sigma**2,  or rho* density * sigma**4\n",
    "    \n",
    "    \n",
    "    return Phi,Theta,radius,Angle_weighting,Cos_Psi"
   ]
  },
  {
   "cell_type": "markdown",
   "metadata": {},
   "source": [
    "# NOTE: Just Use 7 for velocities and use velocities weights in place of weighting mass and rho ( in other words multiply it by that)"
   ]
  },
  {
   "cell_type": "markdown",
   "metadata": {},
   "source": [
    "# 8)."
   ]
  },
  {
   "cell_type": "code",
   "execution_count": 32,
   "metadata": {},
   "outputs": [],
   "source": [
    "def hammer_projection(Phi_deg_array, Theta_deg_array , Final_weighting, plot_bins,lower_limit,upper_limit,file_name,color_map,title,x_lim,y_lim,run_type,wave_type):\n",
    "      \n",
    "    \n",
    "    lz = 180\n",
    "    #sampling of aitoff projection\n",
    "    #RA,l, or Lambda Sgr\n",
    "    binner1 = np.linspace(-180.,180.,plot_bins)\n",
    "    #DEC, b, or B Sgr\n",
    "    binner2 = np.linspace(-90.,90.,plot_bins)\n",
    "    fig, ax = plt.subplots()#create figure in inches\n",
    "\n",
    "\n",
    "    ### Moment AT.Project is used\n",
    "    l, b = at.project(Phi_deg_array,Theta_deg_array,lz)\n",
    "\n",
    "    #Create density map\n",
    "    #img, xbins,ybins = np.histogram2d(ra,dec, weights = Angle_weighting_NFW, bins=(binner1,binner2) )\n",
    "    img, xbins,ybins = np.histogram2d(l,b, weights = Final_weighting, bins=(binner1,binner2) )\n",
    "\n",
    "    img = np.log10(img)\n",
    "\n",
    "    print(len(img))\n",
    "\n",
    "    dark_only_vmax = np.max(img)\n",
    "    dark_only_vmin = np.percentile(img, 25)\n",
    "\n",
    "    print(np.max(img))\n",
    "    print(np.median(img))\n",
    "    print(np.percentile(img, 25))\n",
    "    print(np.min(img))\n",
    "\n",
    "    #Import a module to make minor ticks\n",
    "    from matplotlib.ticker import AutoMinorLocator\n",
    "    #Set up to tell matplotlib to autoselect minor tick locations\n",
    "    minorLocator   = AutoMinorLocator()\n",
    "\n",
    "    #Actually tell matplotlib to find best minor tick locations\n",
    "    ax.xaxis.set_minor_locator(minorLocator)\n",
    "\n",
    "\n",
    "    ax.yaxis.set_minor_locator(minorLocator)\n",
    "    #Turn minor ticks on\n",
    "    ax.minorticks_on()\n",
    "    #set the width of the ticks\n",
    "    ax.tick_params(which='both',width=1)\n",
    "    #set the length of the major ticks\n",
    "    ax.tick_params(which='major',length=7)\n",
    "    #set length of the minor ticks\n",
    "    ax.tick_params(which='minor',length=3)\n",
    "    ax.set_ylim([-25.,90.])\n",
    "    ax.set_ylabel('DEC',fontsize=18)\n",
    "    ax.set_xlabel('RA',fontsize=18)\n",
    "\n",
    "    #fig.gca().invert_xaxis()\n",
    "\n",
    "\n",
    "    #create a figure to plot the histogram on\n",
    "    fig, ax = plt.subplots(figsize=(12.,6.))#create figure in inches\n",
    "    plot = ax.imshow(img.T,origin='lower',extent=[xbins[0],xbins[-1],ybins[0],ybins[-1]],\n",
    "                     cmap=plt.cm.binary,interpolation='bicubic',aspect='auto' #try a different interpolation method for the image\n",
    "                     ,vmin = lower_limit, vmax = upper_limit)\n",
    "    #Add a nice little color bar\n",
    "    cbar = fig.colorbar(plot)\n",
    "    cbar.set_label('Density of Dark Matter')\n",
    "    #put a gid on the plot \n",
    "    at.gridlines(lz,fig,ax)\n",
    "    #Actually tell matplotlib to find best minor tick locations\n",
    "    ax.xaxis.set_minor_locator(minorLocator)\n",
    "    ax.yaxis.set_minor_locator(minorLocator)\n",
    "    #Turn minor ticks on\n",
    "\n",
    "    ax.minorticks_on()\n",
    "    #set the width of the ticks\n",
    "    ax.tick_params(which='both',width=1)\n",
    "    #set the length of the major ticks\n",
    "    ax.tick_params(which='major',length=7)\n",
    "    #set length of the minor ticks\n",
    "    ax.tick_params(which='minor',length=3)\n",
    "\n",
    "    #remove axis labels because they are meanles in an aitoff projection\n",
    "    fig.gca().get_xaxis().set_visible(False)\n",
    "    fig.gca().get_yaxis().set_visible(False)\n",
    "    fig.gca().invert_xaxis()\n",
    "\n",
    "\n",
    "    import matplotlib as mat\n",
    "\n",
    "    #create a figure to plot the histogram on\n",
    "    fig, ax = plt.subplots(figsize=(14.,10.))#create figure in inches\n",
    "    #create a colorbar axis\n",
    "    cax, kw = mat.colorbar.make_axes(ax,pad=0,shrink=1.0,location='top',fontsize = 14)\n",
    "\n",
    "\n",
    "    #imshow will also do RGB if you feed it a 3d or 4d array ( the last dimension being opcacity)\n",
    "    plot = ax.imshow(img.T,origin='lower',extent=[xbins[0],xbins[-1],ybins[0],ybins[-1]],\n",
    "                     cmap= color_map,#try a different color scheme for the image\n",
    "                     interpolation='bilinear',aspect='auto', \n",
    "                     vmin = lower_limit, vmax = upper_limit)\n",
    "    #Add a nice little color bar\n",
    "    cbar = fig.colorbar(plot,cax=cax,orientation='horizontal')\n",
    "    \n",
    "    cbar.set_label(title, fontsize = 25 , y = 1.28 )\n",
    "    \n",
    "    cbar.ax.xaxis.set_ticks_position('top')\n",
    "    cbar.ax.xaxis.set_label_position('top')\n",
    "    cbar.ax.tick_params(labelsize=20) \n",
    "    \n",
    "    #mpl.pyplot.text( 21.1,19, str(halo)+': S-Wave DMO', fontsize = 17, color = 'black' )\n",
    "    mpl.pyplot.text( x_lim[0],y_lim[0],  wave_type , fontsize = 34, color = 'black' )\n",
    "    mpl.pyplot.text( x_lim[1],y_lim[1], str(halo) , fontsize = 34, color = 'black' )\n",
    "    mpl.pyplot.text( x_lim[2],y_lim[2],  run_type , fontsize = 34, color = 'black' )\n",
    "   \n",
    "        \n",
    "    #cbar.ax.set_xticklabels()\n",
    "    #put a gid on the plot \n",
    "    at.gridlines(lz,fig,ax)\n",
    "    #Actually tell matplotlib to find best minor tick locations\n",
    "    ax.xaxis.set_minor_locator(minorLocator)\n",
    "    ax.yaxis.set_minor_locator(minorLocator)\n",
    "    #Turn minor ticks on\n",
    "    ax.minorticks_on()\n",
    "    #set the width of the ticks\n",
    "    ax.tick_params(which='both',width=1)\n",
    "    #set the length of the major ticks\n",
    "    ax.tick_params(which='major',length=8)\n",
    "    #set length of the minor ticks\n",
    "    ax.tick_params(which='minor',length=3)\n",
    "\n",
    "    #remove axis labels because they are meanles in an aitoff projection\n",
    "    ax.get_xaxis().set_visible(False)\n",
    "    ax.get_yaxis().set_visible(False)\n",
    "    #because it drops all axes for whatever reason\n",
    "    cax.get_xaxis().set_visible(True)\n",
    "    ax.set_xlim([180.,-180.])\n",
    "    ax.set_ylim([-90.,90.])\n",
    "    \n",
    "    plt.savefig(path + '/' +file_name_of_hammer+wave_type+str(halo)+'.png')\n",
    "    \n",
    "    \n",
    "    \n",
    "    print ('printing max value of DJ/DO')\n",
    "    print (np.max(img))\n",
    "    print ('printing x and y bins')\n",
    "    return xbins,ybins\n",
    "\n"
   ]
  },
  {
   "cell_type": "markdown",
   "metadata": {},
   "source": [
    "# 9). "
   ]
  },
  {
   "cell_type": "code",
   "execution_count": 33,
   "metadata": {},
   "outputs": [],
   "source": [
    "def Angle_convert( Theta,Phi):\n",
    "\n",
    "\n",
    "    Theta_deg = np.degrees(Theta - np.pi/2)\n",
    "    Phi_deg = np.degrees(Phi + np.pi)    \n",
    "\n",
    "    Theta_deg_array = np.asarray( Theta_deg)\n",
    "    Phi_deg_array = np.asarray( Phi_deg)\n",
    "\n",
    "    \n",
    "    return Theta_deg_array,Phi_deg_array\n"
   ]
  },
  {
   "cell_type": "markdown",
   "metadata": {},
   "source": [
    "# 10)."
   ]
  },
  {
   "cell_type": "code",
   "execution_count": 34,
   "metadata": {},
   "outputs": [],
   "source": [
    "\n",
    "def recenter( coords, dm_mass, center_range):\n",
    "\n",
    "    radius = np.sqrt ( coords[:,0]*coords[:,0] +  coords[:,1]*coords[:,1] + coords[:,2]*coords[:,2] )\n",
    "\n",
    "    index1 = radius < center_range\n",
    "\n",
    "    xyz2 = coords[index1]\n",
    "    \n",
    "    dm_mass2 = dm_mass[index1]\n",
    "\n",
    "    mp = 0\n",
    "    for j in range (0, len(xyz2)):\n",
    "    # sum all the mass times coordinates                                                                                                                                                                                                \\\n",
    "\n",
    "        mp = dm_mass2[j] * xyz2[j,:] + mp\n",
    "\n",
    "    DM_mass_tot1 = len(xyz2) * dm_mass2[0]\n",
    "    \n",
    "    DM_cm = mp/DM_mass_tot1\n",
    "    print ('printing dm cm')\n",
    "    print (DM_cm)\n",
    "    print(dm_mass2[0])\n",
    "    new_coords = coords - DM_cm    \n",
    "    \n",
    "    \n",
    "    return new_coords"
   ]
  },
  {
   "cell_type": "markdown",
   "metadata": {},
   "source": [
    "# 11)."
   ]
  },
  {
   "cell_type": "code",
   "execution_count": 35,
   "metadata": {},
   "outputs": [],
   "source": [
    "\n",
    "def recenter_bary( coords, dm_mass, center_range):\n",
    "\n",
    "    radius = np.sqrt ( coords[:,0]*coords[:,0] +  coords[:,1]*coords[:,1] + coords[:,2]*coords[:,2] )\n",
    "\n",
    "    index1 = radius < center_range\n",
    "\n",
    "    xyz2 = coords[index1]\n",
    "    \n",
    "    dm_mass2 = dm_mass[index1]\n",
    "\n",
    "    mp = 0\n",
    "    for j in range (0, len(xyz2)):\n",
    "    # sum all the mass times coordinates                                                                                                                                                                                                \\\n",
    "\n",
    "        mp = dm_mass2[j] * xyz2[j,:] + mp\n",
    "\n",
    "    DM_mass_tot1 = len(xyz2) * dm_mass2[0]\n",
    "    \n",
    "    DM_cm = mp/DM_mass_tot1\n",
    "    print ('printing dm cm')\n",
    "    print (DM_cm)\n",
    "    print(dm_mass2[0])\n",
    "    new_coords_bary = coords - DM_cm    \n",
    "    \n",
    "    \n",
    "    return new_coords_bary"
   ]
  },
  {
   "cell_type": "markdown",
   "metadata": {},
   "source": [
    "# 12). "
   ]
  },
  {
   "cell_type": "code",
   "execution_count": 36,
   "metadata": {},
   "outputs": [],
   "source": [
    "import numpy as np\n",
    "import ctypes\n",
    "import math\n",
    "import os.path\n",
    "import struct\n",
    "import array\n",
    "\n",
    "def checklen(x):\n",
    "    return len(np.array(x,ndmin=1));\n",
    "def fcor(x):\n",
    "    return np.array(x,dtype='f',ndmin=1)\n",
    "def vfloat(x):\n",
    "    return x.ctypes.data_as(ctypes.POINTER(ctypes.c_float));\n",
    "\n",
    "def ok_scan(input,xmax=1.0e10,pos=0):\n",
    "    if (pos==1):\n",
    "        return (np.isnan(input)==False) & (abs(input)<=xmax) & (input > 0.);\n",
    "    else:\n",
    "        return (np.isnan(input)==False) & (abs(input)<=xmax);\n",
    "    \n",
    "    \n",
    "    \n",
    "    \n",
    "def get_particle_hsml( x, y, z, vx, vy, vz, DesNgb=32, Hmax=0.):\n",
    "    \n",
    "    \n",
    "    x=fcor(x); y=fcor(y); z=fcor(z); N=checklen(x); \n",
    "\n",
    "    vx=fcor(vx); vy=fcor(vy); vz=fcor(vz); N=checklen(x); \n",
    "    \n",
    "    ok=(ok_scan(x) & ok_scan(y) & ok_scan(z));\n",
    "    ok= ok & (ok_scan(vx) & ok_scan(vy) & ok_scan(vz));\n",
    "\n",
    "    x=x[ok]; y=y[ok]; z=z[ok];\n",
    "    vx=vx[ok]; vy=vy[ok]; vz=vz[ok];\n",
    "\n",
    "    \n",
    "    if(Hmax==0.):\n",
    "        dx=np.max(x)-np.min(x); dy=np.max(y)-np.min(y); dz=np.max(z)-np.min(z); ddx=np.max([dx,dy,dz]);\n",
    "        Hmax=5.*ddx*(np.float(N)**(-1./3.)); ## mean inter-particle spacing                                                                                                                                                                                   \n",
    "\n",
    "  \n",
    "  ##### now accessing the C code\n",
    "\n",
    "    import inspect\n",
    "    exec_call = \"/Users/danmckeown/repos/FIRE_studio/firestudio/utils/stellar_utils/c_libraries/StellarHsml/starhsml.so\"\n",
    "    \n",
    "    # calling program in the dir.\n",
    "    h_routine=ctypes.cdll[exec_call];\n",
    "\n",
    "    # These are python variables which we are casting as C variables\n",
    "    h_out_cast=ctypes.c_float*N; H_OUT=h_out_cast();\n",
    "    v_out_cast=ctypes.c_float*N; V_OUT=v_out_cast();\n",
    "    v_mag_cast=ctypes.c_float*N; V_MAG=v_mag_cast();\n",
    "    # First variable name needs to match last\n",
    "    \n",
    "    # These lines create the pointers that are passed to the C code  ( ctypes.byref(H_OUT), ctypes.byref(V_OUT))\n",
    "    \n",
    "    \n",
    "    ## main call to the hsml-finding routine\n",
    "    h_routine.stellarhsml( ctypes.c_int(N), \\\n",
    "    ## load the routine we need                                                                                                                                                                                                                               \n",
    "    \n",
    "        vfloat(x), vfloat(y), vfloat(z), \\\n",
    "        vfloat(vx), vfloat(vy), vfloat(vz), ctypes.c_int(DesNgb), \\\n",
    "        ctypes.c_float(Hmax), ctypes.byref(H_OUT), ctypes.byref(V_OUT),ctypes.byref(V_MAG)\n",
    "    )                       \n",
    "                          \n",
    "    ## now put the output arrays into a useful format \n",
    "    \n",
    "    # These two lines below get the pointers out\n",
    "    h = np.ctypeslib.as_array(np.copy(H_OUT));                     \n",
    "    vdisp = np.ctypeslib.as_array(np.copy(V_OUT));\n",
    "    vmag = np.ctypeslib.as_array(np.copy(V_MAG));\n",
    "    \n",
    "    return h, vdisp,vmag \n",
    "                          \n",
    "   "
   ]
  },
  {
   "cell_type": "markdown",
   "metadata": {},
   "source": [
    "# Files "
   ]
  },
  {
   "cell_type": "code",
   "execution_count": 16,
   "metadata": {
    "scrolled": true
   },
   "outputs": [
    {
     "name": "stdout",
     "output_type": "stream",
     "text": [
      "32786376\n",
      "32786376\n",
      "32786376\n",
      "150682480\n",
      "150682480\n",
      "150682480\n",
      "42248.33502351941\n",
      "35181.055915909434\n"
     ]
    }
   ],
   "source": [
    "R_virial_bary =  np.load(path+\"/\"+'virial_radiusm12c.npy')\n",
    "\n",
    "R_virial_dark =  np.load(path+\"/\"+'virial_dark'+str(halo)+'.npy')\n",
    "\n",
    "\n",
    "velocities_bary = np.load(path+\"/\"+ 'velocities_dm_bary_rotm12c.npy') \n",
    "\n",
    "velocities_dark = np.load(path+\"/\"+ 'final_master_velocities_darkm12c.npy')\n",
    "\n",
    "\n",
    "dm_mass_dark  = np.load(path+\"/\"+ 'dm_mass_darkm12c.npy')\n",
    "\n",
    "\n",
    "dm_mass_bary  = np.load(path+\"/\"+ 'dm_mass_unrot_bary_m12c.npy')\n",
    "\n",
    "\n",
    "\n",
    "bary_coords = np.load(path+\"/\"+'bary_coord_dm_m12c_newest.npy')\n",
    " \n",
    "dark_coords = np.load(path+\"/\"+ 'dark_coordm12c.npy')\n",
    "    \n",
    "\n",
    "print(len(dm_mass_dark))\n",
    "print(len(velocities_dark))\n",
    "print(len(dark_coords))   \n",
    "\n",
    "\n",
    "\n",
    "print(len(bary_coords))\n",
    "print(len(velocities_bary))\n",
    "print(len(dm_mass_bary))\n",
    "   \n",
    "print(dm_mass_dark[0])\n",
    "print(dm_mass_bary[0])\n"
   ]
  },
  {
   "cell_type": "code",
   "execution_count": 17,
   "metadata": {},
   "outputs": [
    {
     "name": "stdout",
     "output_type": "stream",
     "text": [
      "31207040\n",
      "32220707\n",
      "42248.33502351941\n",
      "35181.055915909434\n"
     ]
    }
   ],
   "source": [
    "\n",
    "pos_x_dark,pos_y_dark,pos_z_dark,radius_dark,dm_mass_dark_final,velocities_dark_final,dm_only_mass = make_coords(dark_coords,dm_mass_dark,velocities_dark,1.0)\n",
    "\n",
    "pos_x_bary,pos_y_bary,pos_z_bary,radius_bary,dm_mass_bary_final,velocities_bary_final,dm_bary_mass = make_coords(bary_coords,dm_mass_bary,velocities_bary,1.0)\n",
    "\n",
    "dm_mass_dark_final = np.asarray(dm_mass_dark_final)\n",
    "dm_mass_bary_final = np.asarray(dm_mass_bary_final)\n",
    "\n",
    "\n",
    "\n",
    "print(len(dm_mass_dark_final))\n",
    "print(len(dm_mass_bary_final))\n",
    "\n",
    "print(dm_only_mass)\n",
    "print(dm_bary_mass)"
   ]
  },
  {
   "cell_type": "code",
   "execution_count": 18,
   "metadata": {},
   "outputs": [],
   "source": [
    "from operator import truediv\n",
    "my_bins = 100\n",
    "\n",
    "\n",
    "#binning_dark = np.logspace(np.log10(0.1),np.log10(300.), my_bins)\n",
    "#binning_bary = np.logspace(np.log10(0.1),np.log10(300.), my_bins)\n",
    "\n",
    "\n",
    "#dark_radial_bins, Den_dark = make_hist(radius_dark,binning_dark, dm_mass_dark_final, 300 )\n",
    "#bary_radial_bins, Den_bary = make_hist(radius_bary,binning_bary, dm_mass_bary_final, 300 )\n",
    "\n",
    "binning_dark = np.logspace(np.log10(0.1),np.log10(300.), my_bins)\n",
    "binning_bary = np.logspace(np.log10(0.1),np.log10(300.), my_bins)\n",
    "\n",
    "\n",
    "dark_radial_bins, Den_dark = make_hist(radius_dark,binning_dark, dm_mass_dark_final, 300 )\n",
    "bary_radial_bins, Den_bary = make_hist(radius_bary,binning_bary, dm_mass_bary_final, 300 )\n",
    "\n",
    "\n"
   ]
  },
  {
   "cell_type": "code",
   "execution_count": 19,
   "metadata": {},
   "outputs": [
    {
     "data": {
      "image/png": "[encoded data removed]",
      "text/plain": [
       "<Figure size 1080x720 with 1 Axes>"
      ]
     },
     "metadata": {
      "needs_background": "light"
     },
     "output_type": "display_data"
    }
   ],
   "source": [
    "ax_font = 25\n",
    "txt_font = 30\n",
    "lw = 4\n",
    "\n",
    "######################\n",
    "fig, ax = plt.subplots(figsize=(15,10))\n",
    "ax.tick_params(which='major',width=5,length=15, direction = 'in', top = True ,right = True, labelsize = ax_font)\n",
    "\n",
    "ax.tick_params(which='minor',width= 1.5,length=13, direction = 'in', top = True ,right = True, labelsize = ax_font)\n",
    "\n",
    "plt.xlabel(r'$R\\, [kpc]$', fontsize = 30)\n",
    "plt.ylabel(r'$\\rho\\, [M_{\\odot}\\, kpc^{-3}]$', fontsize = 30)\n",
    "plt.loglog(dark_radial_bins, Den_dark, linewidth= 6, color = 'Blue',label = str(halo)+' Dark matter only' )\n",
    "plt.loglog(bary_radial_bins,  Den_bary  ,  linewidth= 6, color = 'Red', label = str(halo)+''+'FIRE' )\n",
    "#plt.loglog(rad,rho_test,color = 'orange', linestyle='--', linewidth=3, label = ' NFW')\n",
    "\n",
    "\n",
    "np.save(path+\"/\"+'density_dark_un_norm'+str(halo)+'.npy',Den_dark)\n",
    "np.save(path+\"/\"+'dark_bins_rho_un_norm'+str(halo)+'.npy',dark_radial_bins)\n",
    "np.save(path+\"/\"+'density_bary_un_norm'+str(halo)+'.npy',Den_bary)\n",
    "np.save(path+\"/\"+'bary_bins_rho_un_norm'+str(halo)+'.npy',bary_radial_bins)\n",
    "\n",
    "\n",
    "\n",
    "\n",
    "\n",
    "\n",
    "\n",
    "plt.xlim(    0.1, 300)\n",
    "plt.ylim(    10**3, 10**9)\n",
    "plt.legend(fontsize = 20)\n",
    "plt.savefig(path +'Dark_matter_density.png')\n",
    "plt.show()\n",
    "\n",
    "                         \n",
    "#=====================  3.Plot the data  ====================="
   ]
  },
  {
   "cell_type": "code",
   "execution_count": null,
   "metadata": {},
   "outputs": [],
   "source": []
  },
  {
   "cell_type": "code",
   "execution_count": null,
   "metadata": {},
   "outputs": [],
   "source": []
  },
  {
   "cell_type": "code",
   "execution_count": 20,
   "metadata": {},
   "outputs": [
    {
     "name": "stdout",
     "output_type": "stream",
     "text": [
      "1871.7018332494445\n",
      "518747840.8719115\n",
      "1.838728598936555\n",
      "13.64901762489845\n"
     ]
    }
   ],
   "source": [
    "print(np.interp(10000, dark_radial_bins, Den_dark, left= np.max(Den_dark), right= np.min(Den_dark), period=None))\n",
    "print(np.interp(0, dark_radial_bins, Den_dark, left= np.max(Den_dark), right= np.min(Den_dark), period=None))\n",
    "\n",
    "local_rho_dark = (np.interp(8.3, dark_radial_bins, Den_dark, left= np.max(Den_dark), right= np.min(Den_dark), period=None))\n",
    "print (1.e7/local_rho_dark)\n",
    "\n",
    "mult_dark = 1.e7/local_rho_dark\n",
    "\n",
    "\n",
    "local_rho_bary = (np.interp(8.3, bary_radial_bins, Den_bary, left= np.max(Den_bary), right= np.min(Den_bary), period=None) )\n",
    "print(1.e7/local_rho_bary)\n",
    "\n",
    "mult_bary = 1.e7/local_rho_bary\n",
    "\n",
    "vel_norm_dark = np.sqrt(mult_dark )\n",
    "\n",
    "vel_norm_bary = np.sqrt(mult_bary )\n"
   ]
  },
  {
   "cell_type": "code",
   "execution_count": 21,
   "metadata": {},
   "outputs": [
    {
     "name": "stdout",
     "output_type": "stream",
     "text": [
      "31207040\n",
      "32220707\n",
      "77683.22186519802\n",
      "480186.85225878574\n"
     ]
    }
   ],
   "source": [
    "\n",
    "\n",
    "pos_x_dark,pos_y_dark,pos_z_dark,radius_dark,dm_mass_dark_final,velocities_dark_final,dm_only_mass = make_coords(dark_coords,dm_mass_dark,velocities_dark,mult_dark)\n",
    "\n",
    "pos_x_bary,pos_y_bary,pos_z_bary,radius_bary,dm_mass_bary_final,velocities_bary_final,dm_bary_mass = make_coords(bary_coords,dm_mass_bary,velocities_bary,mult_bary)\n",
    "\n",
    "\n",
    "dm_mass_dark_final = np.asarray(dm_mass_dark_final)\n",
    "dm_mass_bary_final = np.asarray(dm_mass_bary_final)\n",
    "\n",
    "\n",
    "\n",
    "print(len(dm_mass_dark_final))\n",
    "print(len(dm_mass_bary_final))\n",
    "\n",
    "print(dm_only_mass)\n",
    "print(dm_bary_mass)\n"
   ]
  },
  {
   "cell_type": "code",
   "execution_count": 22,
   "metadata": {},
   "outputs": [],
   "source": [
    "from operator import truediv\n",
    "my_bins = 100\n",
    "\n",
    "\n",
    "binning_dark = np.logspace(np.log10(0.1),np.log10(300.), my_bins)\n",
    "binning_bary = np.logspace(np.log10(0.1),np.log10(300.), my_bins)\n",
    "\n",
    "\n",
    "dark_radial_bins_new, Den_dark_new = make_hist(radius_dark,binning_dark, dm_mass_dark_final, 300 )\n",
    "bary_radial_bins_new, Den_bary_new = make_hist(radius_bary,binning_bary, dm_mass_bary_final, 300 )\n",
    "\n"
   ]
  },
  {
   "cell_type": "code",
   "execution_count": 23,
   "metadata": {},
   "outputs": [
    {
     "data": {
      "image/png": "[encoded data removed]",
      "text/plain": [
       "<Figure size 1080x720 with 1 Axes>"
      ]
     },
     "metadata": {
      "needs_background": "light"
     },
     "output_type": "display_data"
    }
   ],
   "source": [
    "\n",
    "\n",
    "CB_color_cycle = ['#377eb8', '#ff7f00', '#4daf4a',\n",
    "                  '#f781bf', '#a65628', '#984ea3',\n",
    "                  '#999999', '#e41a1c', '#dede00']\n",
    "\n",
    "\n",
    "\n",
    "\n",
    "\n",
    "\n",
    "ax_font = 25\n",
    "txt_font = 30\n",
    "lw = 4\n",
    "\n",
    "######################\n",
    "fig, ax = plt.subplots(figsize=(15,10))\n",
    "ax.tick_params(which='major',width=5,length=15, direction = 'in', top = True ,right = True, labelsize = ax_font)\n",
    "\n",
    "ax.tick_params(which='minor',width= 1.5,length=13, direction = 'in', top = True ,right = True, labelsize = ax_font)\n",
    "\n",
    "plt.xlabel(r'$R\\, [kpc]$', fontsize = 30)\n",
    "plt.ylabel(r'$\\rho\\, [M_{\\odot}\\, kpc^{-3}]$', fontsize = 30)\n",
    "plt.loglog(dark_radial_bins, Den_dark, linewidth= 2,linestyle='--', alpha =0.4 ,color =  CB_color_cycle[0],label = str(halo)+'DMO ' )\n",
    "plt.loglog(bary_radial_bins,  Den_bary  ,  linewidth= 2,linestyle='--', alpha = 0.4,color =  CB_color_cycle[7], label = str(halo)+''+'FIRE' )\n",
    "\n",
    "plt.loglog(dark_radial_bins_new, Den_dark_new, linewidth= 6, color =  CB_color_cycle[0],label = str(halo)+'DMO Rescaled ' )\n",
    "plt.loglog(bary_radial_bins_new,  Den_bary_new  ,  linewidth= 6, color =  CB_color_cycle[7], label = str(halo)+''+'FIRE Rescaled' )\n",
    "\n",
    "\n",
    "\n",
    "np.save(path+\"/\"+'density_dark'+str(halo)+'.npy',Den_dark_new)\n",
    "np.save(path+\"/\"+'dark_bins_rho'+str(halo)+'.npy',dark_radial_bins_new)\n",
    "np.save(path+\"/\"+'density_bary'+str(halo)+'.npy',Den_bary_new)\n",
    "np.save(path+\"/\"+'bary_bins_rho'+str(halo)+'.npy',bary_radial_bins_new)\n",
    "\n",
    "\n",
    "\n",
    "\n",
    "\n",
    "\n",
    "#plt.loglog(rad,rho_test,color = 'orange', linestyle='--', linewidth=3, label = ' NFW')\n",
    "plt.axvline(x= .6, color = 'purple',linestyle='--')\n",
    "#plt.axvline(x= 8.3, color = 'orange',linestyle='--')\n",
    "\n",
    "plt.xlim(    0.1, 300)\n",
    "plt.ylim(    10**3, 10**9.4)\n",
    "plt.legend(fontsize = 20)\n",
    "plt.savefig(path +'Dark_matter_density'+str(halo)+'.png',   bbox_inches='tight' )\n",
    "plt.show()\n",
    "\n",
    "                         \n",
    "#=====================  3.Plot the data  ====================="
   ]
  },
  {
   "cell_type": "code",
   "execution_count": 24,
   "metadata": {},
   "outputs": [
    {
     "name": "stdout",
     "output_type": "stream",
     "text": [
      "31207040\n",
      "32220707\n"
     ]
    }
   ],
   "source": [
    "print(len(velocities_dark_final))\n",
    "print(len(velocities_bary_final))\n"
   ]
  },
  {
   "cell_type": "code",
   "execution_count": 25,
   "metadata": {},
   "outputs": [
    {
     "name": "stderr",
     "output_type": "stream",
     "text": [
      "/Users/danmckeown/anaconda3/lib/python3.7/site-packages/ipykernel_launcher.py:28: RuntimeWarning: Mean of empty slice.\n",
      "/Users/danmckeown/anaconda3/lib/python3.7/site-packages/numpy/core/_methods.py:163: RuntimeWarning: invalid value encountered in true_divide\n",
      "  ret, rcount, out=ret, casting='unsafe', subok=False)\n",
      "/Users/danmckeown/anaconda3/lib/python3.7/site-packages/numpy/core/fromnumeric.py:3622: RuntimeWarning: Degrees of freedom <= 0 for slice\n",
      "  **kwargs)\n",
      "/Users/danmckeown/anaconda3/lib/python3.7/site-packages/numpy/core/_methods.py:195: RuntimeWarning: invalid value encountered in true_divide\n",
      "  arrmean, rcount, out=arrmean, casting='unsafe', subok=False)\n",
      "/Users/danmckeown/anaconda3/lib/python3.7/site-packages/numpy/core/_methods.py:224: RuntimeWarning: invalid value encountered in true_divide\n",
      "  ret, rcount, out=ret, casting='unsafe', subok=False)\n"
     ]
    }
   ],
   "source": [
    "\n",
    "\n",
    "\n",
    "#binning_dark = np.arange(0,300,0.5)\n",
    "#binning_bary = np.arange(0, 300,0.5)\n",
    "# Old binning above\n",
    "\n",
    "\n",
    "v_av_dark_un_norm,radial_bins_dark_un_norm,dispersion_dark_basic_un_norm,vx_dark_un_norm, vy_dark_un_norm,vz_dark_un_norm = make_velocities(velocities_dark_final,radius_dark,binning_dark,1.0)\n",
    "\n",
    "v_av_bary_un_norm,radial_bins_bary_un_norm,dispersion_bary_basic_un_norm , vx_bary_un_norm, vy_bary_un_norm, vz_bary_un_norm = make_velocities(velocities_bary_final,radius_bary,binning_bary,1.0)\n"
   ]
  },
  {
   "cell_type": "code",
   "execution_count": 26,
   "metadata": {},
   "outputs": [
    {
     "name": "stdout",
     "output_type": "stream",
     "text": [
      "nan\n"
     ]
    },
    {
     "data": {
      "image/png": "[encoded data removed]",
      "text/plain": [
       "<Figure size 1080x720 with 1 Axes>"
      ]
     },
     "metadata": {
      "needs_background": "light"
     },
     "output_type": "display_data"
    }
   ],
   "source": [
    "\n",
    "CB_color_cycle = ['#377eb8', '#ff7f00', '#4daf4a',\n",
    "                  '#f781bf', '#a65628', '#984ea3',\n",
    "                  '#999999', '#e41a1c', '#dede00']\n",
    "\n",
    "\n",
    "\n",
    "ax_font = 45\n",
    "txt_font = 45\n",
    "lw = 4\n",
    "\n",
    "\n",
    "fig, ax = plt.subplots(figsize=(15,10))\n",
    "ax.tick_params(which='major',width=5,length=15, direction = 'in', top = True ,right = True, labelsize = ax_font)\n",
    "\n",
    "ax.tick_params(which='minor',width= 1.5,length=13, direction = 'in', top = True ,right = True, labelsize = ax_font)\n",
    "\n",
    "plt.xlabel(r'$R [kpc]$',  fontsize = ax_font)\n",
    "plt.ylabel(r'$\\sigma_{3D}\\, [ km s^{-1}]$',  fontsize = ax_font)\n",
    "\n",
    "\n",
    "plt.semilogx(radial_bins_dark_un_norm, dispersion_dark_basic_un_norm, linewidth= 4.5, color = CB_color_cycle[0],label = str(halo)+ 'DMO ')\n",
    "\n",
    "plt.semilogx(radial_bins_bary_un_norm, dispersion_bary_basic_un_norm, linewidth= 4.5, color = CB_color_cycle[7],label = str(halo)+ 'FIRE' )\n",
    "\n",
    "\n",
    "ax.legend(loc=0, fontsize = 20)\n",
    "\n",
    "plt.xlim(    0.4, 300.)\n",
    "plt.ylim(    100, 550.0)\n",
    "\n",
    "\n",
    "\n",
    "np.save(path+\"/\"+'disp_dark_un_norm'+str(halo)+'.npy',dispersion_dark_basic_un_norm)\n",
    "np.save(path+\"/\"+'dark_bins_vel_disp_un_norm'+str(halo)+'.npy',radial_bins_dark_un_norm)\n",
    "\n",
    "np.save(path+\"/\"+'disp_bary_un_norm'+str(halo)+'.npy',dispersion_bary_basic_un_norm)\n",
    "np.save(path+\"/\"+'bary_bins_vel_disp_un_norm'+str(halo)+'.npy',radial_bins_bary_un_norm)\n",
    "\n",
    "\n",
    "\n",
    "\n",
    "\n",
    "\n",
    "\n",
    "plt.savefig(path +'Velocity_dispersion_un_norm'+str(halo)+'.png', bbox_inches='tight')\n",
    "#plt.title( r'$\\sigma $' + ' ' + str(halo)+ ' '+ 'DMO vs.FIRE', fontsize = 40)                                                                                                                                                                 \n",
    "#plt.xlabel(r'$Radius\\, [kpc]$', fontsize = 30)\n",
    "\n",
    "#plt.ylabel(r'$\\sigma_{disp}\\, [ km s^{-1}]$')\n",
    "\n",
    "print(np.max(dispersion_bary_basic_un_norm ))\n"
   ]
  },
  {
   "cell_type": "code",
   "execution_count": 27,
   "metadata": {},
   "outputs": [
    {
     "name": "stderr",
     "output_type": "stream",
     "text": [
      "/Users/danmckeown/anaconda3/lib/python3.7/site-packages/ipykernel_launcher.py:28: RuntimeWarning: Mean of empty slice.\n"
     ]
    }
   ],
   "source": [
    "\n",
    "\n",
    "\n",
    "v_av_dark,radial_bins_dark,dispersion_dark_basic, vx_dark, vy_dark,vz_dark = make_velocities(velocities_dark_final,radius_dark,binning_dark,vel_norm_dark)\n",
    "\n",
    "v_av_bary,radial_bins_bary,dispersion_bary_basic, vx_bary, vy_bary,vz_bary = make_velocities(velocities_bary_final,radius_bary,binning_bary,vel_norm_bary)\n"
   ]
  },
  {
   "cell_type": "code",
   "execution_count": null,
   "metadata": {},
   "outputs": [],
   "source": [
    "\n",
    "#smoothing_length_dark, v_disp_dark = get_particle_hsml( pos_x_dark,    pos_y_dark,  pos_z_dark, vx_dark, vy_dark, vz_dark,  DesNgb= 32, Hmax=0. )\n",
    "\n",
    "smoothing_length_dark, v_disp_dark = get_particle_hsml( pos_x_dark,    pos_y_dark,  pos_z_dark, vx_dark, vy_dark, vz_dark,DesNgb= 32, Hmax=0. )\n",
    "\n",
    "\n",
    "\n",
    "volumes_d = (4./3.) * np.pi * (smoothing_length_dark)**3\n",
    "\n",
    "\n",
    "masses_d = 32. * dm_mass_dark_final\n",
    "\n",
    "\n",
    "rho = masses_d/volumes_d\n",
    "\n",
    "\n",
    "\n",
    "np.save(path+\"/\"+'full_density_s_dark_m12c'+'.npy',rho)\n",
    " \n",
    "    \n",
    "np.save(path+\"/\"+'full_disp_s_dark_m12c'+'.npy',v_disp_dark)\n"
   ]
  },
  {
   "cell_type": "code",
   "execution_count": null,
   "metadata": {},
   "outputs": [],
   "source": [
    "disp_dark = np.load(path+\"/\"+'full_disp_s_dark_m12c'+'.npy')\n",
    "\n",
    "print(len(disp_dark))"
   ]
  },
  {
   "cell_type": "code",
   "execution_count": null,
   "metadata": {},
   "outputs": [],
   "source": [
    "smoothing_length_bary, v_disp_bary = get_particle_hsml( pos_x_bary,    pos_y_bary,  pos_z_bary, vx_bary, vy_bary, vz_bary, DesNgb= 32, Hmax=0.)\n",
    "\n",
    "\n",
    "\n",
    "volumes_b = (4./3.) * np.pi * (smoothing_length_bary)**3\n",
    "\n",
    "\n",
    "masses_b = 32. * dm_mass_bary_final\n",
    "\n",
    "\n",
    "rho_b = masses_b/volumes_b\n",
    "\n",
    "\n",
    "\n",
    "np.save(path+\"/\"+'full_density_s_bary_m12c'+'.npy',rho)\n",
    "    \n",
    "np.save(path+\"/\"+'full_disp_s_bary_m12c'+'.npy',v_disp_bary)\n",
    "\n",
    "\n",
    "\n",
    "\n",
    "\n",
    "\n"
   ]
  },
  {
   "cell_type": "code",
   "execution_count": null,
   "metadata": {},
   "outputs": [],
   "source": [
    "\n",
    "ax_font = 45\n",
    "txt_font = 45\n",
    "lw = 4\n",
    "\n",
    "\n",
    "fig, ax = plt.subplots(figsize=(15,10))\n",
    "ax.tick_params(which='major',width=5,length=15, direction = 'in', top = True ,right = True, labelsize = ax_font)\n",
    "\n",
    "ax.tick_params(which='minor',width= 1.5,length=13, direction = 'in', top = True ,right = True, labelsize = ax_font)\n",
    "\n",
    "plt.xlabel(r'$Radius\\, [kpc]$',  fontsize = ax_font)\n",
    "plt.ylabel(r'$\\sigma_{3D}\\, [ km s^{-1}]$',  fontsize = ax_font)\n",
    "\n",
    "\n",
    "plt.semilogx(radial_bins_dark, dispersion_dark_basic, linewidth= 4.5, color =  CB_color_cycle[0],label = 'M12c DMO ')\n",
    "\n",
    "plt.semilogx(radial_bins_bary, dispersion_bary_basic, linewidth= 4.5, color =  CB_color_cycle[7],label = 'M12c FIRE ' )\n",
    "\n",
    "\n",
    "\n",
    "\n",
    "\n",
    "\n",
    "\n",
    "np.save(path+\"/\"+'disp_dark'+str(halo)+'.npy',dispersion_dark_basic)\n",
    "np.save(path+\"/\"+'dark_bins_vel_disp'+str(halo)+'.npy',radial_bins_dark)\n",
    "\n",
    "np.save(path+\"/\"+'disp_bary'+str(halo)+'.npy',dispersion_bary_basic)\n",
    "np.save(path+\"/\"+'bary_bins_vel_disp'+str(halo)+'.npy',radial_bins_bary)\n",
    "\n",
    "\n",
    "\n",
    "\n",
    "\n",
    "ax.legend(loc=0, fontsize = 20)\n",
    "\n",
    "plt.xlim(    0.1, 300)\n",
    "plt.ylim(    60, 540)\n",
    "\n",
    "plt.savefig(path +'Velocity_dispersion'+str(halo)+'.png',  bbox_inches='tight')\n",
    "\n",
    "\n",
    "\n",
    "\n",
    "#plt.title('Velocity Dispersion Comparison:' + str(halo)+ 'DMO vs.FIRE', fontsize = 40)                                                                                                                                                                 \n",
    "#plt.xlabel(r'$Radius\\, [kpc]$', fontsize = 30)\n",
    "\n",
    "#plt.ylabel(r'$\\sigma_{disp}\\, [ km s^{-1}]$')\n",
    "\n",
    "print(np.max(dispersion_bary_basic ))\n"
   ]
  },
  {
   "cell_type": "markdown",
   "metadata": {},
   "source": [
    "# Instead of using make velocities to find the velocity dispersion like before, use local velocity dispersion "
   ]
  },
  {
   "cell_type": "code",
   "execution_count": null,
   "metadata": {},
   "outputs": [],
   "source": [
    "dispersion_dark_sq = 2.0 * dispersion_dark_basic * dispersion_dark_basic\n",
    "\n",
    "dispersion_bary_sq = 2.0 * dispersion_bary_basic * dispersion_bary_basic\n",
    "\n",
    "print(dispersion_dark_sq[0]/(3e5)**2,dispersion_bary_sq[0]/(3e5)**2)\n",
    "\n",
    "\n",
    "local_vel_disp = (np.interp(1 ,radial_bins_bary, dispersion_bary_sq, left= np.max(dispersion_bary_sq), right= np.min(dispersion_bary_sq), period=None))\n",
    "#local_vel = ((local_vel) /( 2.99792458e5)**4 )\n",
    "print(local_vel_disp)\n",
    "plt.semilogx(radial_bins_dark, dispersion_dark_sq, linewidth= 4.5, color = 'blue',label = 'M12i Dark  Only ')\n",
    "\n",
    "plt.semilogx(radial_bins_bary, dispersion_bary_sq, linewidth= 4.5, color = 'red',label = 'FIRE ' )\n",
    "\n"
   ]
  },
  {
   "cell_type": "code",
   "execution_count": null,
   "metadata": {},
   "outputs": [],
   "source": []
  },
  {
   "cell_type": "code",
   "execution_count": null,
   "metadata": {},
   "outputs": [],
   "source": [
    "def local_velocity_disp_weighting_p(file_name, radius, bin_edges, dispersion_sq):\n",
    "    vel_disp_local_p = []\n",
    "    #file_name = 'vel_disp_local_p'+ str(halo)\n",
    "    length = len(dispersion_sq)\n",
    "    final_value = length - 1\n",
    "    for i in range(len(radius )):\n",
    "         # Change radial_bins_dark to radial_bins_dark_half_way   , for left , assign the dispersion that is at smallest radii , then right should be value of dispersion at largest radii\n",
    "        local_vel_p = (np.interp(radius[i] , bin_edges, dispersion_sq, left= dispersion_sq[0] , right= dispersion_sq[final_value], period=None))\n",
    "        #print(local_vel_p)\n",
    "        local_vel_p = ((local_vel_p) /( 2.99792458e5)**2 )        \n",
    "        #print(local_vel_p)\n",
    "        vel_disp_local_p.insert( i, local_vel_p )\n",
    "\n",
    "    np.save(path+\"/\"+file_name+'.npy',vel_disp_local_p)\n",
    "    return vel_disp_local_p\n",
    "#vel_dm_only_p_wave = local_velocity_disp_weighting(dm_only_file_name_p, radius_dark, radial_bins_dark,dispersion_dark_sq)"
   ]
  },
  {
   "cell_type": "code",
   "execution_count": null,
   "metadata": {},
   "outputs": [],
   "source": [
    "def local_velocity_disp_weighting_d(file_name, radius, bin_edges, dispersion_fourth):\n",
    "    vel_disp_local_d = []\n",
    "    #file_name = 'vel_disp_local_p'+ str(halo)\n",
    "    length = len(dispersion_fourth)\n",
    "    final_value = length - 1\n",
    "    for i in range(len(radius )):\n",
    "         # Change radial_bins_dark to radial_bins_dark_half_way   , for left , assign the dispersion that is at smallest radii , then right should be value of dispersion at largest radii\n",
    "        local_vel_d = (np.interp(radius[i] , bin_edges, dispersion_fourth, left= dispersion_fourth[0] , right= dispersion_fourth[final_value], period=None))\n",
    "        #print(local_vel_p)\n",
    "        local_vel_d = ((local_vel_d) /( 2.99792458e5)**4 )        \n",
    "        #print(local_vel_p)\n",
    "        vel_disp_local_d.insert( i, local_vel_d )\n",
    "\n",
    "    np.save(path+\"/\"+file_name+'.npy',vel_disp_local_d)\n",
    "    return vel_disp_local_d\n",
    "#vel_dm_only_p_wave = local_velocity_disp_weighting(dm_only_file_name_p, radius_dark, radial_bins_dark,dispersion_dark_sq)"
   ]
  },
  {
   "cell_type": "code",
   "execution_count": null,
   "metadata": {},
   "outputs": [],
   "source": [
    "dispersion_dark_fourth = (48./9.) * dispersion_dark_sq * dispersion_dark_sq\n",
    "\n",
    "dispersion_bary_fourth = (  48./9.  ) *  dispersion_bary_sq * dispersion_bary_sq\n",
    "\n",
    "\n",
    "print(dispersion_dark_fourth[0]/(3e5)**4,dispersion_bary_fourth[0]/(3e5)**4)\n",
    "\n",
    "\n",
    "plt.semilogx(radial_bins_dark, dispersion_dark_sq, linewidth= 4.5, color = 'blue',label = 'M12i Dark  Only ')\n",
    "\n",
    "plt.semilogx(radial_bins_bary, dispersion_bary_sq, linewidth= 4.5, color = 'red',label = 'M12i Fully Baryonic ' )\n"
   ]
  },
  {
   "cell_type": "markdown",
   "metadata": {},
   "source": [
    "## Weighting "
   ]
  },
  {
   "cell_type": "code",
   "execution_count": null,
   "metadata": {},
   "outputs": [],
   "source": [
    "#dark_only_file_name = '/rho_dm_only_s_wave_'+str(halo)\n",
    "\n",
    "\n",
    "#rho_local_dm_only = local_density_weighting(dark_only_file_name, radius_dark, radial_bins_dark,Den_dark)\n",
    "\n"
   ]
  },
  {
   "cell_type": "code",
   "execution_count": null,
   "metadata": {},
   "outputs": [],
   "source": [
    "#dark_bary_file_name = '/rho_bary_s_wave_'+str(halo)\n",
    "\n",
    "\n",
    "#rho_local_bary = local_density_weighting(dark_bary_file_name, radius_bary, radial_bins_bary,Den_bary)\n"
   ]
  },
  {
   "cell_type": "code",
   "execution_count": null,
   "metadata": {},
   "outputs": [],
   "source": [
    "# Create filename to send \n",
    "\n",
    "dm_only_file_name_p_new = '/vel_dm_only_p_wave_'+str(halo)\n",
    "\n",
    "vel_dm_only_p_wave = local_velocity_disp_weighting_p(dm_only_file_name_p_new, radius_dark, radial_bins_dark,dispersion_dark_sq)\n",
    "\n"
   ]
  },
  {
   "cell_type": "code",
   "execution_count": null,
   "metadata": {},
   "outputs": [],
   "source": [
    "dark_bary_file_name_p_new = '/vel_bary_p_wave_'+str(halo)\n",
    "\n",
    "vel_bary_p_wave = local_velocity_disp_weighting_p(dark_bary_file_name_p_new, radius_bary, radial_bins_bary, dispersion_bary_sq)\n",
    "          "
   ]
  },
  {
   "cell_type": "code",
   "execution_count": null,
   "metadata": {},
   "outputs": [],
   "source": [
    "rho_local_dm_only_p = np.load(path+\"/\"+'/vel_dm_only_p_wave_'+str(halo)+'.npy')\n",
    "\n"
   ]
  },
  {
   "cell_type": "markdown",
   "metadata": {},
   "source": [
    "# D weighting "
   ]
  },
  {
   "cell_type": "code",
   "execution_count": null,
   "metadata": {},
   "outputs": [],
   "source": [
    "dm_only_file_name_d = '/vel_dm_only_d_wave_'+str(halo)\n",
    "\n",
    "vel_dm_only_d_wave_d = local_velocity_disp_weighting_d(dm_only_file_name_d, radius_dark, radial_bins_dark,dispersion_dark_fourth)"
   ]
  },
  {
   "cell_type": "code",
   "execution_count": null,
   "metadata": {},
   "outputs": [],
   "source": [
    "dark_bary_file_name_d = '/vel_bary_d_wave_'+str(halo)\n",
    "\n",
    "vel_bary_d_wave_d = local_velocity_disp_weighting_d(dark_bary_file_name_d, radius_bary, radial_bins_bary,dispersion_bary_fourth)"
   ]
  },
  {
   "cell_type": "markdown",
   "metadata": {},
   "source": [
    "# Load files "
   ]
  },
  {
   "cell_type": "code",
   "execution_count": null,
   "metadata": {},
   "outputs": [],
   "source": [
    "#rho_local_dm_only = np.load(path+\"/\"+'/rho_dm_only_s_wave_'+str(halo)+'.npy')\n",
    "#rho_local_bary = np.load(path+\"/\"+'/rho_bary_s_wave_'+str(halo)+'.npy')\n",
    "rho_local_dm_only_p = np.load(path+\"/\"+'/vel_dm_only_p_wave_'+str(halo)+'.npy')\n",
    "rho_local_bary_p = np.load(path+\"/\"+'/vel_bary_p_wave_'+str(halo)+'.npy')\n",
    "rho_local_dm_only_d = np.load(path+\"/\"+'/vel_dm_only_d_wave_'+str(halo)+'.npy')\n",
    "rho_local_bary_d = np.load(path+\"/\"+'/vel_bary_d_wave_'+str(halo)+'.npy')\n"
   ]
  },
  {
   "cell_type": "code",
   "execution_count": null,
   "metadata": {},
   "outputs": [],
   "source": [
    "print ( rho_local_dm_only_p [ 0])"
   ]
  },
  {
   "cell_type": "code",
   "execution_count": null,
   "metadata": {},
   "outputs": [],
   "source": [
    "#print(len(rho_local_dm_only)) \n",
    "#print(len(rho_local_bary )) \n",
    "print(len(rho_local_dm_only_p)) \n",
    "print(len(rho_local_bary_p)) \n",
    "print(len(rho_local_dm_only_d)) \n",
    "print(len(rho_local_bary_d )) "
   ]
  },
  {
   "cell_type": "code",
   "execution_count": null,
   "metadata": {},
   "outputs": [],
   "source": [
    "\n",
    "\n"
   ]
  },
  {
   "cell_type": "markdown",
   "metadata": {},
   "source": [
    "#### 4p/n^2 weighting is only for the sky map, because the bins in the dJ/dOmega plot are the \"rings\" of width 2pi*dcos(theta)\n",
    "#### we are doing rings in the dJ/dO plot, but in the sky map we're doing n^2 squares over 4pi steradians"
   ]
  },
  {
   "cell_type": "markdown",
   "metadata": {},
   "source": [
    "###  IMPORTANT ,  THE CODE BELOW IS OUTDATED AND NEEDS TO BE REPLACED !!!!!!!!!!!!"
   ]
  },
  {
   "cell_type": "code",
   "execution_count": null,
   "metadata": {},
   "outputs": [],
   "source": [
    "plot_bins = 180\n",
    "\n",
    "\n",
    "rho_local_times_mass_dm_only = dm_mass_dark_final * rho\n",
    "\n",
    "rho_local_times_mass_dm_only  = ( rho_local_times_mass_dm_only * conversion ) \n",
    "\n",
    "\n",
    "\n",
    "Phi_dark_s,Theta_dark_s,radius_dark_s,  Angle_weighting_dark_new_s ,Cos_Psi_dark_s = coord_trans( pos_x_dark ,pos_y_dark ,pos_z_dark,d, rho_local_times_mass_dm_only )\n",
    "\n",
    "\n",
    "Angle_weighting_dark_new_s_conv = Angle_weighting_dark_new_s / ( 4.0 * np.pi/  ( plot_bins * plot_bins)) \n",
    "\n",
    "\n",
    "# Careful! Don't do the conversion twice !!!!!!!\n",
    "\n",
    "\n",
    "\n",
    "Theta_deg_dark_array_s, Phi_deg_dark_array_s  =  Angle_convert( Theta_dark_s,Phi_dark_s)\n",
    "\n",
    "\n",
    "\n"
   ]
  },
  {
   "cell_type": "code",
   "execution_count": null,
   "metadata": {
    "scrolled": false
   },
   "outputs": [],
   "source": [
    "# tested  for 0,180\n",
    "plot_bins = 180\n",
    "\n",
    "#r'$R\\, [kpc]$'\n",
    "\n",
    "lower_limit,upper_limit = 21., 24.\n",
    "\n",
    "\n",
    "title  = r'$ log(dJ_{s} /d\\Omega) { GeV^{2} cm^{-5} Sr^{-1} } $' \n",
    "\n",
    "    #mpl.pyplot.text( 21.1,19, str(halo)+': S-Wave DMO', fontsize = 17, color = 'black' )\n",
    "\n",
    "    \n",
    "    \n",
    "x_lim = [21.1,21.1 , 23.5]\n",
    "\n",
    "y_lim = [18, -13, 18]\n",
    "\n",
    "run_type = 'DMO'\n",
    "\n",
    "wave_type = 's-wave'\n",
    "\n",
    "\n",
    "lower_limit,upper_limit = 21, 24\n",
    "\n",
    "file_name_of_hammer = 'Hammer_dm_only_full'\n",
    "\n",
    "\n",
    "x_bin,y_bin = hammer_projection(Phi_deg_dark_array_s, Theta_deg_dark_array_s ,Angle_weighting_dark_new_s_conv, plot_bins,lower_limit,upper_limit,file_name_of_hammer,plt.cm.plasma,title,x_lim, y_lim, run_type,wave_type)\n",
    "\n",
    "#print(x_bin,y_bin)"
   ]
  },
  {
   "cell_type": "markdown",
   "metadata": {},
   "source": [
    "# Resolution Limit "
   ]
  },
  {
   "cell_type": "code",
   "execution_count": null,
   "metadata": {},
   "outputs": [],
   "source": [
    "print ( np.degrees (np.arctan( 0.4/8.3)) )"
   ]
  },
  {
   "cell_type": "markdown",
   "metadata": {},
   "source": [
    "# Baryonic Analysis"
   ]
  },
  {
   "cell_type": "markdown",
   "metadata": {},
   "source": [
    "## Baryonic Weighting"
   ]
  },
  {
   "cell_type": "code",
   "execution_count": null,
   "metadata": {},
   "outputs": [],
   "source": [
    "\n",
    "smoothing_length_bary = get_particle_hsml( pos_x_bary,  pos_y_bary,  pos_z_bary,  DesNgb= 32, Hmax=0. )\n",
    "\n",
    "\n",
    "\n",
    "\n",
    "volumes_b = (4./3.) * np.pi * (smoothing_length_bary)**3\n",
    "\n",
    "\n",
    "masses_b = 32. * dm_mass_bary_final\n",
    "\n",
    "\n",
    "rho_bary = masses_b /volumes_b \n"
   ]
  },
  {
   "cell_type": "code",
   "execution_count": null,
   "metadata": {},
   "outputs": [],
   "source": [
    "np.save(path+\"/\"+'full_density_s_bary_m12c_full'+'.npy',rho_bary)\n",
    "    "
   ]
  },
  {
   "cell_type": "code",
   "execution_count": null,
   "metadata": {},
   "outputs": [],
   "source": [
    "\n",
    "mass_particles_dm = np.full((len(rho),),dm_only_mass )\n",
    "mass_particles_b = np.full((len(rho_bary),),dm_bary_mass )\n",
    "\n",
    "# Final rho weight dm only s wave\n",
    "rho = np.asarray(rho) \n",
    "rho_local_times_mass_dm_only = mass_particles_dm * rho\n",
    "\n",
    "print(len(rho_local_times_mass_dm_only))\n",
    "\n",
    "# Final rho weight bary wave \n",
    "rho_local_bary = np.asarray(rho_bary) \n",
    "rho_local_times_mass_b = mass_particles_b * rho_local_bary\n",
    "\n",
    "\n",
    "\n",
    "\n",
    "print(len(rho_local_times_mass_b))\n",
    "# Final P weight\n",
    "\n",
    "rho_local_dm_only_p = np.asarray( rho_local_dm_only_p)\n",
    "\n",
    "final_dm_p_weight =   rho_local_times_mass_dm_only * rho_local_dm_only_p  # rename to sigma squared local dm only \n",
    "\n",
    "print ('first')\n",
    "print(rho_local_dm_only_p[1000])\n",
    "\n",
    "\n",
    "print(len(final_dm_p_weight))\n",
    "rho_local_bary_p = np.asarray( rho_local_bary_p)\n",
    "final_bary_p_weight =  rho_local_times_mass_b  *rho_local_bary_p\n",
    "\n",
    "print(len(final_bary_p_weight))\n",
    "# Final D weight \n",
    "\n",
    "rho_local_dm_only_d = np.asarray( rho_local_dm_only_d)\n",
    "final_dm_d_weight =   rho_local_times_mass_dm_only * rho_local_dm_only_d\n",
    "\n",
    "print(len(final_dm_d_weight))\n",
    "\n",
    "rho_local_bary_d = np.asarray( rho_local_bary_d)\n",
    "final_bary_d_weight =  rho_local_times_mass_b  *rho_local_bary_d\n",
    "\n",
    "print(len(rho_local_times_mass_b))\n",
    "\n"
   ]
  },
  {
   "cell_type": "code",
   "execution_count": null,
   "metadata": {
    "scrolled": false
   },
   "outputs": [],
   "source": [
    "plot_bins = 180\n",
    "\n",
    "\n",
    "rho_local_times_mass_dm_bary = dm_mass_bary_final * rho_bary\n",
    "\n",
    "rho_local_times_mass_dm_bary  = ( rho_local_times_mass_dm_bary * conversion ) \n",
    "\n",
    "\n",
    "\n",
    "\n",
    "Phi_bary_s_f,Theta_bary_s_f,radius_bary,  Angle_weighting_bary_new_s_f ,Cos_Psi_bary_s_f = coord_trans( pos_x_bary ,pos_y_bary ,pos_z_bary ,d, rho_local_times_mass_dm_bary )\n",
    "\n",
    "\n",
    "Angle_weighting_bary_new_s_conv_f = Angle_weighting_bary_new_s_f / ( 4.0 * np.pi/  ( plot_bins * plot_bins)) \n",
    "\n",
    "\n",
    "# Careful! Don't do the conversion twice !!!!!!!\n",
    "\n",
    "\n",
    "\n",
    "Theta_deg_bary_array_s_f, Phi_deg_bary_array_s_f  =  Angle_convert( Theta_bary_s_f,Phi_bary_s_f)\n",
    "\n",
    "\n",
    "\n",
    "\n",
    "\n",
    "\n",
    "\n",
    "# tested  for 0,180\n",
    "plot_bins = 180\n",
    "\n",
    "\n",
    "\n",
    "\n",
    "title  = r'$ log(dJ_{s} /d\\Omega) { GeV^{2} cm^{-5} Sr^{-1} } $' \n",
    "\n",
    "    #mpl.pyplot.text( 21.1,19, str(halo)+': S-Wave DMO', fontsize = 17, color = 'black' )\n",
    "\n",
    "    \n",
    "    \n",
    "x_lim = [21.1,21.1 , 23.5]\n",
    "\n",
    "y_lim = [18, -13, 18]\n",
    "\n",
    "run_type = 'FIRE'\n",
    "\n",
    "wave_type = 's-wave'\n",
    "\n",
    "\n",
    "lower_limit,upper_limit = 21, 24\n",
    "\n",
    "file_name_of_hammer = 'Hammer_bary_only_full_f'\n",
    "\n",
    "\n",
    "\n",
    "\n",
    "x_bin,y_bin = hammer_projection(Phi_deg_bary_array_s_f, Theta_deg_bary_array_s_f ,Angle_weighting_bary_new_s_conv_f , plot_bins,lower_limit ,upper_limit ,file_name_of_hammer,plt.cm.plasma,title,x_lim, y_lim,run_type, wave_type)\n",
    "\n",
    "#print(x_bin,y_bin)\n"
   ]
  },
  {
   "cell_type": "code",
   "execution_count": null,
   "metadata": {},
   "outputs": [],
   "source": []
  },
  {
   "cell_type": "code",
   "execution_count": null,
   "metadata": {},
   "outputs": [],
   "source": [
    "\n",
    "\n",
    "\n",
    "\n",
    "\n",
    "\n",
    "\n",
    "\n",
    "\n",
    "\n",
    "\n",
    "\n"
   ]
  },
  {
   "cell_type": "markdown",
   "metadata": {},
   "source": [
    "# Now make plots for P weights "
   ]
  },
  {
   "cell_type": "code",
   "execution_count": null,
   "metadata": {},
   "outputs": [],
   "source": [
    "plot_bins = 180\n",
    "\n",
    "\n",
    "final_dm_p_weight = (  final_dm_p_weight * conversion ) \n",
    "\n",
    "\n",
    "\n",
    "Phi_dark_p,Theta_dark_p,radius_dark_p,Angle_weighting_dark_p,Cos_Psi_dark_p = coord_trans( pos_x_dark ,pos_y_dark ,pos_z_dark,d, final_dm_p_weight )\n",
    "\n",
    "\n",
    "Angle_weighting_dark_p_conv   =   (Angle_weighting_dark_p)  / ( 4. * np.pi /  ( plot_bins * plot_bins)) \n",
    "\n",
    "Theta_deg_dark_array_p, Phi_deg_dark_array_p  =  Angle_convert( Theta_dark_p,Phi_dark_p)\n",
    "\n",
    "\n"
   ]
  },
  {
   "cell_type": "code",
   "execution_count": null,
   "metadata": {
    "scrolled": false
   },
   "outputs": [],
   "source": [
    "# tested  for 0,180\n",
    "plot_bins = 180\n",
    "\n",
    "lower_limit,upper_limit = 15.0, 18.0\n",
    "\n",
    "file_name_of_hammer = 'Hammer_dm_only'\n",
    "\n",
    "\n",
    "title  = r'$ log(dJ_{p} /d\\Omega) { GeV^{2} cm^{-5} Sr^{-1} } $' \n",
    "\n",
    "\n",
    "\n",
    "    \n",
    "x_lim = [15.1, 15.1 , 17.6]\n",
    "\n",
    "y_lim = [11.7, -18.6, 11.7]\n",
    "\n",
    "run_type = 'DMO'\n",
    "\n",
    "wave_type = 'p-wave'\n",
    "\n",
    "\n",
    "\n",
    "x_bin,y_bin = hammer_projection(Phi_deg_dark_array_p,Theta_deg_dark_array_p ,Angle_weighting_dark_p_conv, plot_bins,lower_limit,upper_limit,file_name_of_hammer,plt.cm.viridis,title,x_lim, y_lim, run_type,wave_type)\n",
    "\n",
    "#print(x_bin,y_bin)"
   ]
  },
  {
   "cell_type": "code",
   "execution_count": null,
   "metadata": {},
   "outputs": [],
   "source": [
    "plot_bins = 180\n",
    "\n",
    "\n",
    "\n",
    "final_bary_p_weight =  final_bary_p_weight * conversion  \n",
    "\n",
    "\n",
    "Phi_bary_p, Theta_bary_p, radius_bary_p, Angle_weighting_bary_p ,Cos_Psi_bary_p = coord_trans( pos_x_bary ,pos_y_bary ,pos_z_bary,d, final_bary_p_weight )\n",
    "\n",
    "\n",
    "\n",
    "Angle_weighting_bary_p_conv = ( Angle_weighting_bary_p)  /  ( 4. * np.pi  /  ( plot_bins * plot_bins)) \n",
    "\n",
    "\n",
    "Theta_deg_bary_array_p, Phi_deg_bary_array_p  =  Angle_convert( Theta_bary_p, Phi_bary_p)\n"
   ]
  },
  {
   "cell_type": "code",
   "execution_count": null,
   "metadata": {
    "scrolled": false
   },
   "outputs": [],
   "source": [
    "# tested  for 0,180\n",
    "plot_bins = 180\n",
    "\n",
    "title = 'p-wave FIRE' + ''+ ' Log(Js}) Gev^2 cm^-5  Sr^{-1}'\n",
    "lower_limit,upper_limit = 15.0, 18.0\n",
    "\n",
    "\n",
    "\n",
    "title  = r'$ log(dJ_{p} /d\\Omega) { GeV^{2} cm^{-5} Sr^{-1} } $'\n",
    "\n",
    "\n",
    "x_lim = [15.1, 15.1 , 17.6]\n",
    "\n",
    "y_lim = [11.7, -18.6, 11.7]\n",
    "\n",
    "run_type = 'FIRE'\n",
    "\n",
    "wave_type = 'p-wave'\n",
    "\n",
    "\n",
    "\n",
    "\n",
    "file_name_of_hammer = 'Hammer_bary_'\n",
    "\n",
    "\n",
    "\n",
    "\n",
    "hammer_projection(Phi_deg_bary_array_p,  Theta_deg_bary_array_p,   Angle_weighting_bary_p_conv , plot_bins,lower_limit,upper_limit,file_name_of_hammer,plt.cm.viridis,title,x_lim, y_lim,run_type, wave_type)\n",
    "\n",
    "\n",
    "\n",
    "#print(x_bin,y_bin)"
   ]
  },
  {
   "cell_type": "markdown",
   "metadata": {},
   "source": [
    "# D Weights"
   ]
  },
  {
   "cell_type": "code",
   "execution_count": null,
   "metadata": {},
   "outputs": [],
   "source": [
    "final_dm_d_weight  = ( final_dm_d_weight * conversion  )\n",
    "\n",
    "\n",
    "\n",
    "Phi_dark_d, Theta_dark_d, radius_dark_d, Angle_weighting_dark_d, Cos_Psi_dark_d = coord_trans( pos_x_dark ,pos_y_dark ,pos_z_dark,d, final_dm_d_weight )\n",
    "\n",
    "\n",
    "plot_bins = 180\n",
    "\n",
    "\n",
    "Angle_weighting_dark_new_d_conv = ( Angle_weighting_dark_d )  / ( 4. * np.pi /  ( plot_bins * plot_bins)) \n",
    "\n",
    "\n",
    "\n",
    "Theta_deg_dark_array_d, Phi_deg_dark_array_d  =  Angle_convert( Theta_dark_d , Phi_dark_d)\n",
    "\n"
   ]
  },
  {
   "cell_type": "code",
   "execution_count": null,
   "metadata": {},
   "outputs": [],
   "source": [
    "# tested  for 0,180\n",
    "plot_bins = 180\n",
    "\n",
    "title  = r'$ log(dJ_{d} /d\\Omega) { GeV^{2} cm^{-5} Sr^{-1} } $'\n",
    "\n",
    "\n",
    "\n",
    "\n",
    "\n",
    "x_lim = [9.1, 9.1 , 11.6]\n",
    "\n",
    "y_lim = [6.3, -23.3, 6.3]\n",
    "\n",
    "run_type = 'DMO'\n",
    "\n",
    "wave_type = 'd-wave'\n",
    "\n",
    "\n",
    "\n",
    "lower_limit,upper_limit = 9.0,12.0\n",
    "\n",
    "file_name_of_hammer = 'hammer_dm_only_'\n",
    "\n",
    "\n",
    "x_bin,y_bin = hammer_projection(Phi_deg_dark_array_d , Theta_deg_dark_array_d ,Angle_weighting_dark_new_d_conv, plot_bins,lower_limit,upper_limit,file_name_of_hammer,plt.cm.magma,title,x_lim, y_lim,run_type, wave_type)\n",
    "\n",
    "#print(x_bin,y_bin)"
   ]
  },
  {
   "cell_type": "code",
   "execution_count": null,
   "metadata": {},
   "outputs": [],
   "source": [
    "plot_bins = 180\n",
    "\n",
    "final_bary_d_weight =  final_bary_d_weight * conversion   \n",
    "\n",
    "Phi_bary_d,Theta_bary_d,radius_bary_d,Angle_weighting_bary_d,Cos_Psi_bary_d = coord_trans( pos_x_bary ,pos_y_bary ,pos_z_bary,d, final_bary_d_weight )\n",
    "\n",
    "\n",
    "\n",
    "Angle_weighting_bary_new_d_conv = ( Angle_weighting_bary_d   ) /  ( 4 * np.pi/  ( plot_bins * plot_bins)) \n",
    "#Angle_weighting_bary_new_dj_do = ( Angle_weighting_bary * conversion )  # /( 4 * np.pi/  ( plot_bins * plot_bins)) \n",
    "\n",
    "\n",
    "Theta_deg_bary_array_d, Phi_deg_bary_array_d  =  Angle_convert( Theta_bary_d, Phi_bary_d )\n"
   ]
  },
  {
   "cell_type": "code",
   "execution_count": null,
   "metadata": {
    "scrolled": false
   },
   "outputs": [],
   "source": [
    "# tested  for 0,180\n",
    "plot_bins = 180\n",
    "title  = r'$ log(dJ_{d} /d\\Omega) { GeV^{2} cm^{-5} Sr^{-1} } $'\n",
    "\n",
    "x_lim = [9.1, 9.1 , 11.6]\n",
    "\n",
    "y_lim = [6.3, -23.3, 6.3]\n",
    "\n",
    "run_type = 'FIRE'\n",
    "\n",
    "wave_type = 'd-wave'\n",
    "\n",
    "\n",
    "\n",
    "lower_limit,upper_limit = 9, 12\n",
    "\n",
    "file_name_of_hammer = 'hammer_bary_'\n",
    "\n",
    "\n",
    "hammer_projection(Phi_deg_bary_array_d , Theta_deg_bary_array_d ,   Angle_weighting_bary_new_d_conv , plot_bins,lower_limit,upper_limit,file_name_of_hammer,plt.cm.magma,title, x_lim, y_lim,run_type, wave_type)\n",
    "\n",
    "\n",
    "\n",
    "#print(x_bin,y_bin)\n"
   ]
  },
  {
   "cell_type": "markdown",
   "metadata": {},
   "source": [
    "# Create J factor Plots for Velocity Independent J factors"
   ]
  },
  {
   "cell_type": "markdown",
   "metadata": {},
   "source": [
    "# 10)."
   ]
  },
  {
   "cell_type": "code",
   "execution_count": null,
   "metadata": {},
   "outputs": [],
   "source": [
    "def J_( Cos_Psi, Final_weights):   \n",
    "# Cos_Psi is x/r  ( an array of coords)    \n",
    "    J_bins = 35    \n",
    "\n",
    "    \n",
    "\n",
    "    sin_bins = np.logspace( -2.0, 0, J_bins)\n",
    "\n",
    "    Cos_Psi_bins = np.sqrt(1. - (sin_bins)**2 )\n",
    "\n",
    "\n",
    "    Cos_Psi_bins_reverse = Cos_Psi_bins[::-1]    \n",
    "    \n",
    "    \n",
    "    #Cos_Psi_bins_reverse = Cos_Psi_bins[::-1]\n",
    "\n",
    "\n",
    "    J_factor , bin_edges_psi = np.histogram(Cos_Psi,  bins = Cos_Psi_bins_reverse,  weights = Final_weights)\n",
    "    # Where the particles are, their weights, the bins\n",
    "    \n",
    "    print('bin check')\n",
    "    J_factor_reverse = J_factor[::-1]\n",
    "    \n",
    "    print(bin_edges_psi)\n",
    "    bin_edges_psi_reverse = bin_edges_psi[::-1]\n",
    "    \n",
    "    print(Cos_Psi_bins_reverse)\n",
    "    \n",
    "    J_factor = np.array(J_factor,dtype=float ) \n",
    "        \n",
    "    \n",
    "    J_factor_reverse = np.array(J_factor_reverse,dtype=float ) \n",
    "    #print('bin edges')\n",
    "    #print(bin_edges_psi)\n",
    "    \n",
    "    bin_edges_psi_final = np.degrees(np.arccos(bin_edges_psi)) \n",
    "    \n",
    "    #bin_edges_psi_final =  bin_edges_psi_final[:-1]\n",
    "    \n",
    "    \n",
    "    bin_edges_psi_final_reverse = bin_edges_psi_final[::-1]\n",
    "    \n",
    "    d_theta = np.diff(bin_edges_psi_final_reverse )\n",
    "    #bin_edges_psi_final_reverse = bin_edges_psi_final_reverse[:-1]\n",
    "    \n",
    "    print('printing bins')\n",
    "    print(bin_edges_psi_final_reverse)\n",
    "    \n",
    "    print(len( bin_edges_psi_final  ), len( J_factor))\n",
    "\n",
    "    J_factor_sum = np.cumsum(J_factor_reverse,axis=0)\n",
    "\n",
    "\n",
    "\n",
    "    \n",
    "    return   J_factor, J_factor_reverse,J_factor_sum, bin_edges_psi,bin_edges_psi_reverse, bin_edges_psi_final, bin_edges_psi_final_reverse, d_theta"
   ]
  },
  {
   "cell_type": "markdown",
   "metadata": {},
   "source": [
    "# 11)."
   ]
  },
  {
   "cell_type": "code",
   "execution_count": null,
   "metadata": {},
   "outputs": [],
   "source": [
    "\n",
    "def J_factor_plots( reverse_dark_bins , reverse_bary_bins, J_factor_dark_sum,J_factor_bary_sum, x_lim, y_lim, wave_type,y_minimum ,y_maximum  ):\n",
    " \n",
    "  \n",
    "    ax_font = 45\n",
    "    txt_font = 45\n",
    "    lw = 4\n",
    "\n",
    "\n",
    "    fig, ax = plt.subplots(figsize=(15,10))\n",
    "    ax.tick_params(which='major',width= 3,length=15, direction = 'in', top = True ,right = True, labelsize = ax_font)\n",
    "\n",
    "    ax.tick_params(which='minor',width= 1.5,length=13, direction = 'in', top = True ,right = True, labelsize = ax_font)\n",
    "\n",
    "    plt.xlabel(r'$ \\, \\Psi [deg] $', fontsize = 30)\n",
    "\n",
    "    plt.ylabel(r'$J (< \\Psi) \\, [ GEV ^{2} cm^{-5} ]$', fontsize = 30)\n",
    "  \n",
    "\n",
    "    mpl.pyplot.text( x_lim,y_lim, str(halo)+':'+ wave_type , fontsize = 30, color = 'black' )\n",
    "\n",
    "    #plt.semilogy(degree_same, J_factor_sum,color = 'Blue',linewidth= 6,label = \"\" )\n",
    "    plt.semilogy(reverse_dark_bins, J_factor_dark_sum,color =  CB_color_cycle[0],linewidth= 6,label = \" DMO \" )\n",
    "    plt.semilogy(reverse_bary_bins, J_factor_bary_sum,color =  CB_color_cycle[7],linewidth= 6,label = \"FIRE\" )\n",
    "    plt.legend(fontsize = 20)\n",
    "    #plt.title('Dark Matter Only', fontsize = 30)\n",
    "\n",
    "    plt.xlim([0,20])\n",
    "    #plt.ylim ( [10**17 , 10 **25])\n",
    "    plt.savefig(path +'/J_cumulative'+str(wave_type)+str(halo)+'.png',  bbox_inches='tight' )\n",
    "    plt.show()\n",
    "\n"
   ]
  },
  {
   "cell_type": "markdown",
   "metadata": {},
   "source": [
    "# 12). "
   ]
  },
  {
   "cell_type": "code",
   "execution_count": null,
   "metadata": {},
   "outputs": [],
   "source": [
    "def DJ_plots(d_theta,  bin_edges_psi,  J_factor_reverse):\n",
    "\n",
    "    d_theta_final=   np.radians((d_theta)) \n",
    "\n",
    "    print(len((bin_edges_psi_dark )))\n",
    "\n",
    "\n",
    "    solid_angle = (  np.diff(bin_edges_psi ) * 2.0 * np.pi )\n",
    "\n",
    "\n",
    "    solid_angle_r = solid_angle[::-1]\n",
    "\n",
    "\n",
    "    DJ = (J_factor_reverse / solid_angle_r  )\n",
    "\n",
    "\n",
    "    DJ_DO_bins = (np.degrees(np.arccos(bin_edges_psi)))\n",
    "\n",
    "    DJ_DO_bins_final = DJ_DO_bins[::-1]\n",
    "\n",
    "\n",
    "    DJ_DO_bins_final_final =  (    DJ_DO_bins_final[1:] + DJ_DO_bins_final[:-1]) / 2.0 \n",
    "\n",
    "    return DJ_DO_bins_final_final , DJ "
   ]
  },
  {
   "cell_type": "markdown",
   "metadata": {},
   "source": [
    "# S wave Analysis "
   ]
  },
  {
   "cell_type": "code",
   "execution_count": null,
   "metadata": {},
   "outputs": [],
   "source": [
    "J_factor_dark,J_factor_dark_reverse, J_factor_dark_sum,bin_edges_psi_dark, bin_edges_psi_reverse_dark, bin_edges_psi_final_dark, bin_edges_psi_final_dark_reverse,d_theta_dark  =  J_( Cos_Psi_dark_s, Angle_weighting_dark_new_s )\n",
    "\n",
    "print(np.min(Cos_Psi_dark_s))\n",
    "\n",
    "\n",
    "J_factor_bary, J_factor_bary_reverse, J_factor_bary_sum,bin_edges_psi_bary, bin_edges_psi_reverse_bary, bin_edges_psi_final_bary,bin_edges_psi_final_bary_reverse,d_theta_bary =  J_( Cos_Psi_bary_s, Angle_weighting_bary_new_s)\n",
    "\n"
   ]
  },
  {
   "cell_type": "code",
   "execution_count": null,
   "metadata": {},
   "outputs": [],
   "source": [
    "bin_edges_psi_final_dark_reverse_s = bin_edges_psi_final_dark_reverse[:-1]\n",
    "bin_edges_psi_final_bary_reverse_s = bin_edges_psi_final_bary_reverse[:-1]\n",
    "\n",
    "\n",
    "y_minimum = 1.0e20 \n",
    "y_maximum = 5.0e23\n",
    "\n",
    "\n",
    "x_lim = 14\n",
    "\n",
    "y_lim = 10**20.2\n",
    "\n",
    "\n",
    "np.save(path+\"/\"+'J_factor_dark_sum_s'+str(halo)+'.npy',J_factor_dark_sum)\n",
    "np.save(path+\"/\"+'J_factor_bary_sum_s'+str(halo)+'.npy',J_factor_bary_sum)\n",
    "np.save(path+\"/\"+'bin_edges_dark_jfactor_sum_s'+str(halo)+'.npy', bin_edges_psi_final_dark_reverse_s)\n",
    "np.save(path+\"/\"+'bin_edges_bary_jfactor_sum_s'+str(halo)+'.npy',bin_edges_psi_final_bary_reverse_s) \n",
    "        \n",
    "\n",
    "\n",
    "\n",
    "wave_type = 's-wave'\n",
    "\n",
    "\n",
    "\n",
    "\n",
    "\n",
    "print('printing dm only bins and J factor sum')\n",
    "print(bin_edges_psi_final_dark_reverse_s )\n",
    "\n",
    "print ( J_factor_dark_sum)\n",
    "\n",
    "print('printing bary bins and J factor sum')\n",
    "print ( bin_edges_psi_final_bary_reverse_s )\n",
    "\n",
    "\n",
    "print( J_factor_bary_sum  )\n",
    "\n",
    "\n",
    "print( J_factor_bary_sum[21])\n",
    "print(J_factor_dark_sum[21])\n",
    "\n",
    "\n",
    "\n",
    "J_factor_plots( bin_edges_psi_final_dark_reverse_s, bin_edges_psi_final_bary_reverse_s, J_factor_dark_sum,J_factor_bary_sum,x_lim,y_lim,wave_type,y_minimum ,y_maximum )\n",
    "\n",
    "\n"
   ]
  },
  {
   "cell_type": "code",
   "execution_count": null,
   "metadata": {},
   "outputs": [],
   "source": [
    "DJ_DO_bins_dark_final_final, DJ_dark =   DJ_plots(d_theta_dark ,  bin_edges_psi_dark,  J_factor_dark_reverse)\n",
    "\n",
    "DJ_DO_bins_bary_final_final, DJ_bary =   DJ_plots(d_theta_bary ,  bin_edges_psi_bary,  J_factor_bary_reverse)\n"
   ]
  },
  {
   "cell_type": "code",
   "execution_count": null,
   "metadata": {
    "scrolled": false
   },
   "outputs": [],
   "source": [
    "ax_font = 45\n",
    "txt_font = 45\n",
    "lw = 4\n",
    "\n",
    "\n",
    "fig, ax = plt.subplots(figsize=(15,10))\n",
    "ax.tick_params(which='major',width= 3,length=15, direction = 'in', top = True ,right = True, labelsize = ax_font)\n",
    "\n",
    "ax.tick_params(which='minor',width= 1.5,length=13, direction = 'in', top = True ,right = True, labelsize = ax_font)\n",
    "\n",
    "\n",
    "\n",
    "plt.loglog(DJ_DO_bins_dark_final_final, DJ_dark ,color =  CB_color_cycle[0],linewidth= 6,label = \" Dark Matter Only \" )\n",
    "plt.loglog(DJ_DO_bins_bary_final_final, DJ_bary  ,color =  CB_color_cycle[7],linewidth= 6,label = \"FIRE\" )\n",
    "\n",
    "plt.xlabel(r'$ \\, \\Psi [deg] $', fontsize = 30)\n",
    "\n",
    "plt.ylabel(r'$ dJ/d \\Omega (< \\Psi) \\, [ GEV ^{2} cm^{-5} \\ Str^{-1} ]$', fontsize = 30)\n",
    "    \n",
    "\n",
    "plt.legend(fontsize = 20)\n",
    "    #plt.title('Dark Matter Only', fontsize = 30)\n",
    "\n",
    "mpl.pyplot.text( 0.6,10**21.8, str(halo)+': s-wave', fontsize = 30, color = 'black' )\n",
    "\n",
    " \n",
    "mpl.pyplot.ylim( y_minimum, y_maximum )\n",
    "\n",
    "  \n",
    "\n",
    "y_minimum = 2.0e21 \n",
    "y_maximum = 6.0e24 \n",
    "\n",
    "mpl.pyplot.ylim( y_minimum, y_maximum )\n",
    "\n",
    "\n",
    "np.save(path+\"/\"+'DJ_DO_bins_s_dark'+str(halo)+'.npy',DJ_DO_bins_dark_final_final)\n",
    "np.save(path+\"/\"+'DJ_DO_bins_s_bary'+str(halo)+'.npy',DJ_DO_bins_bary_final_final)\n",
    "np.save(path+\"/\"+'DJ_DO_s_dark'+str(halo)+'.npy',DJ_dark)\n",
    "np.save(path+\"/\"+'DJ_DO_s_bary'+str(halo)+'.npy',DJ_bary) \n",
    "    \n",
    "\n",
    "\n",
    "\n",
    "plt.savefig(path +'dJ_DO_'+'SWAVE'+str(halo)+'.png',  bbox_inches='tight')\n",
    "\n",
    "\n",
    "plt.show()"
   ]
  },
  {
   "cell_type": "markdown",
   "metadata": {},
   "source": [
    "# P wave Analysis "
   ]
  },
  {
   "cell_type": "code",
   "execution_count": null,
   "metadata": {},
   "outputs": [],
   "source": [
    "J_factor_dark_p ,J_factor_dark_reverse_p, J_factor_dark_sum_p   ,bin_edges_psi_dark_p , bin_edges_psi_reverse_dark_p , bin_edges_psi_final_dark_p  , bin_edges_psi_final_dark_reverse_p , d_theta_dark_p  =  J_( Cos_Psi_dark_p, Angle_weighting_dark_p )\n",
    "\n",
    "print(np.min(Cos_Psi_dark_p))\n",
    "\n",
    "\n",
    "J_factor_bary_p, J_factor_bary_reverse_p ,   J_factor_bary_sum_p , bin_edges_psi_bary_p  , bin_edges_psi_reverse_bary_p  ,   bin_edges_psi_final_bary_p  ,  bin_edges_psi_final_bary_reverse_p ,  d_theta_bary_p =  J_(Cos_Psi_bary_p ,  Angle_weighting_bary_p )\n",
    "\n"
   ]
  },
  {
   "cell_type": "code",
   "execution_count": null,
   "metadata": {},
   "outputs": [],
   "source": [
    "bin_edges_psi_final_dark_reverse_p_final = bin_edges_psi_final_dark_reverse_p[:-1]\n",
    "bin_edges_psi_final_bary_reverse_p_final = bin_edges_psi_final_bary_reverse_p[:-1]\n",
    "\n",
    "\n",
    "\n",
    "\n",
    "np.save(path+\"/\"+'J_factor_dark_sum_p'+str(halo)+'.npy',J_factor_dark_sum_p)\n",
    "np.save(path+\"/\"+'J_factor_bary_sum_p'+str(halo)+'.npy',J_factor_bary_sum_p)\n",
    "np.save(path+\"/\"+'bin_edges_dark_jfactor_sum_p'+str(halo)+'.npy', bin_edges_psi_final_dark_reverse_p_final)\n",
    "np.save(path+\"/\"+'bin_edges_bary_jfactor_sum_p'+str(halo)+'.npy',bin_edges_psi_final_bary_reverse_p_final) \n",
    "        \n",
    "\n",
    "\n",
    "\n",
    "x_lim = 14\n",
    "\n",
    "y_lim = 10**13.9\n",
    "\n",
    "\n",
    "\n",
    "wave_type = 'p-wave'\n",
    "\n",
    "\n",
    "y_minimum = 1.0e13 \n",
    "y_maximum = 5.0e17\n",
    "\n",
    "     \n",
    "\n",
    "print('printing dm only bins and J factor sum')\n",
    "print(bin_edges_psi_final_dark_reverse_p_final )\n",
    "\n",
    "print ( J_factor_dark_sum_p)\n",
    "\n",
    "print('printing bary bins and J factor sum')\n",
    "print ( bin_edges_psi_final_bary_reverse_p_final )\n",
    "\n",
    "\n",
    "print( J_factor_bary_sum_p  )\n",
    "\n",
    "\n",
    "print( J_factor_bary_sum_p[21])\n",
    "print(J_factor_dark_sum_p[21])\n",
    "\n",
    "\n",
    "\n",
    "\n",
    "\n",
    "\n",
    "J_factor_plots( bin_edges_psi_final_dark_reverse_p_final, bin_edges_psi_final_bary_reverse_p_final, J_factor_dark_sum_p ,J_factor_bary_sum_p,x_lim,y_lim,wave_type,y_minimum,y_maximum )\n"
   ]
  },
  {
   "cell_type": "code",
   "execution_count": null,
   "metadata": {},
   "outputs": [],
   "source": [
    "DJ_DO_bins_dark_final_final_p, DJ_dark_p =   DJ_plots(d_theta_dark_p ,  bin_edges_psi_dark_p,  J_factor_dark_reverse_p)\n",
    "\n",
    "DJ_DO_bins_bary_final_final_p, DJ_bary_p =   DJ_plots(d_theta_bary_p ,  bin_edges_psi_bary_p ,  J_factor_bary_reverse_p)\n"
   ]
  },
  {
   "cell_type": "code",
   "execution_count": null,
   "metadata": {},
   "outputs": [],
   "source": [
    "ax_font = 45\n",
    "txt_font = 45\n",
    "lw = 4\n",
    "\n",
    "\n",
    "fig, ax = plt.subplots(figsize=(15,10))\n",
    "ax.tick_params(which='major',width= 3,length=15, direction = 'in', top = True ,right = True, labelsize = ax_font)\n",
    "\n",
    "ax.tick_params(which='minor',width= 1.5,length=13, direction = 'in', top = True ,right = True, labelsize = ax_font)\n",
    "\n",
    "plt.xlabel(r'$ \\, \\Psi [deg] $', fontsize = 30)\n",
    "\n",
    "plt.ylabel(r'$dJ/d \\Omega (< \\Psi) \\, [ GEV ^{2} cm^{-5} \\ Str^{-1} ]$', fontsize = 30)\n",
    "    \n",
    "\n",
    "plt.loglog(DJ_DO_bins_dark_final_final_p, DJ_dark_p ,color =  CB_color_cycle[0],linewidth= 6,label = \" Dark Matter Only \" )\n",
    "plt.loglog(DJ_DO_bins_bary_final_final_p, DJ_bary_p  ,color =  CB_color_cycle[7],linewidth= 6,label = \"FIRE\" )\n",
    "\n",
    "plt.legend(fontsize = 20)\n",
    "    #plt.title('Dark Matter Only', fontsize = 30)\n",
    "\n",
    "mpl.pyplot.text( 0.6,10**15.9, str(halo)+': p-wave', fontsize = 30, color = 'black' )\n",
    "\n",
    "y_minimum = 2.0e15\n",
    "y_maximum = 5.0e19  \n",
    "\n",
    "mpl.pyplot.ylim( y_minimum, y_maximum )\n",
    "\n",
    "        \n",
    "np.save(path+\"/\"+'DJ_DO_bins_p_dark'+str(halo)+'.npy',DJ_DO_bins_dark_final_final_p)\n",
    "np.save(path+\"/\"+'DJ_DO_bins_p_bary'+str(halo)+'.npy',DJ_DO_bins_bary_final_final_p)\n",
    "np.save(path+\"/\"+'DJ_DO_p_dark'+str(halo)+'.npy',DJ_dark_p)\n",
    "np.save(path+\"/\"+'DJ_DO_p_bary'+str(halo)+'.npy',DJ_bary_p) \n",
    "        \n",
    "    \n",
    "plt.savefig(path +'dJ_DO_'+'PWAVE'+str(halo)+'.png',  bbox_inches='tight') \n",
    "    \n",
    "plt.show()"
   ]
  },
  {
   "cell_type": "markdown",
   "metadata": {},
   "source": [
    "# D Wave Analysis"
   ]
  },
  {
   "cell_type": "code",
   "execution_count": null,
   "metadata": {},
   "outputs": [],
   "source": [
    "J_factor_dark_d ,J_factor_dark_reverse_d, J_factor_dark_sum_d   ,bin_edges_psi_dark_d , bin_edges_psi_reverse_dark_d , bin_edges_psi_final_dark_d  , bin_edges_psi_final_dark_reverse_d , d_theta_dark_d  =  J_( Cos_Psi_dark_d, Angle_weighting_dark_d )\n",
    "\n",
    "print(np.min(Cos_Psi_dark_d))\n",
    "\n",
    "\n",
    "J_factor_bary_d, J_factor_bary_reverse_d ,   J_factor_bary_sum_d , bin_edges_psi_bary_d  , bin_edges_psi_reverse_bary_d  ,   bin_edges_psi_final_bary_d  ,  bin_edges_psi_final_bary_reverse_d ,  d_theta_bary_d =  J_(Cos_Psi_bary_d ,  Angle_weighting_bary_d )\n"
   ]
  },
  {
   "cell_type": "code",
   "execution_count": null,
   "metadata": {},
   "outputs": [],
   "source": [
    "bin_edges_psi_final_dark_reverse_d_final = bin_edges_psi_final_dark_reverse_d[:-1]\n",
    "bin_edges_psi_final_bary_reverse_d_final = bin_edges_psi_final_bary_reverse_d[:-1]\n",
    "\n",
    "\n",
    "\n",
    "\n",
    "x_lim = 3\n",
    "\n",
    "y_lim = 10**8.3\n",
    "\n",
    "wave_type = 'd-wave'\n",
    "\n",
    "\n",
    "y_minimum = 1.0e8\n",
    "y_maximum = 1.0e13\n",
    "\n",
    "\n",
    "np.save(path+\"/\"+'J_factor_dark_sum_d'+str(halo)+'.npy',J_factor_dark_sum_d)\n",
    "np.save(path+\"/\"+'J_factor_bary_sum_d'+str(halo)+'.npy',J_factor_bary_sum_d)\n",
    "np.save(path+\"/\"+'bin_edges_dark_jfactor_sum_d'+str(halo)+'.npy',  bin_edges_psi_final_dark_reverse_d_final)\n",
    "np.save(path+\"/\"+'bin_edges_bary_jfactor_sum_d'+str(halo)+'.npy',bin_edges_psi_final_bary_reverse_d_final) \n",
    "      \n",
    "\n",
    "\n",
    "    \n",
    "    \n",
    "\n",
    "    \n",
    "\n",
    "\n",
    "print('printing dm only bins and J factor sum')\n",
    "print(bin_edges_psi_final_dark_reverse_d_final )\n",
    "\n",
    "print ( J_factor_dark_sum_d)\n",
    "\n",
    "print('printing bary bins and J factor sum')\n",
    "print ( bin_edges_psi_final_bary_reverse_d_final )\n",
    "\n",
    "\n",
    "print( J_factor_bary_sum_d  )\n",
    "\n",
    "\n",
    "print( J_factor_bary_sum_d[21])\n",
    "print(J_factor_dark_sum_d[21])\n",
    "        \n",
    "    \n",
    "\n",
    "\n",
    "J_factor_plots( bin_edges_psi_final_dark_reverse_d_final, bin_edges_psi_final_bary_reverse_d_final, J_factor_dark_sum_d ,J_factor_bary_sum_d , x_lim, y_lim, wave_type,y_minimum,y_maximum)\n",
    "\n",
    "\n"
   ]
  },
  {
   "cell_type": "code",
   "execution_count": null,
   "metadata": {},
   "outputs": [],
   "source": [
    "DJ_DO_bins_dark_final_final_d, DJ_dark_d =   DJ_plots(d_theta_dark_d ,  bin_edges_psi_dark_d,  J_factor_dark_reverse_d)\n",
    "\n",
    "DJ_DO_bins_bary_final_final_d, DJ_bary_d =   DJ_plots(d_theta_bary_d ,  bin_edges_psi_bary_d ,  J_factor_bary_reverse_d)\n"
   ]
  },
  {
   "cell_type": "code",
   "execution_count": null,
   "metadata": {},
   "outputs": [],
   "source": [
    "ax_font = 45\n",
    "txt_font = 45\n",
    "lw = 4\n",
    "\n",
    "\n",
    "fig, ax = plt.subplots(figsize=(15,10))\n",
    "ax.tick_params(which='major',width= 3,length=15, direction = 'in', top = True ,right = True, labelsize = ax_font)\n",
    "\n",
    "ax.tick_params(which='minor',width= 1.5,length=13, direction = 'in', top = True ,right = True, labelsize = ax_font)\n",
    "\n",
    "plt.xlabel(r'$ \\, \\Psi [deg] $', fontsize = 30)\n",
    "\n",
    "plt.ylabel(r'$ dJ/d \\Omega (< \\Psi) \\, [ GEV ^{2} cm^{-5} \\ Str^{-1} ]$', fontsize = 30)\n",
    "    \n",
    "\n",
    "plt.loglog(DJ_DO_bins_dark_final_final_d, DJ_dark_d ,color =  CB_color_cycle[0],linewidth= 6,label = \" Dark Matter Only \" )\n",
    "plt.loglog(DJ_DO_bins_bary_final_final_d, DJ_bary_d  ,color =  CB_color_cycle[7],linewidth= 6,label = \"FIRE\" )\n",
    "\n",
    "\n",
    "\n",
    "y_minimum = 2.0e10\n",
    "y_maximum = 5.0e14   \n",
    "\n",
    "\n",
    "mpl.pyplot.ylim( y_minimum, y_maximum )\n",
    "\n",
    "\n",
    "mpl.pyplot.text( 0.6,10**10.8, str(halo)+':  D-Wave', fontsize = 30, color = 'black' )\n",
    "\n",
    "plt.legend(fontsize = 20)\n",
    "    #plt.title('Dark Matter Only', fontsize = 30)\n",
    "\n",
    "\n",
    "    \n",
    "np.save(path+\"/\"+'DJ_DO_bins_d_dark'+str(halo)+'.npy',DJ_DO_bins_dark_final_final_d)\n",
    "np.save(path+\"/\"+'DJ_DO_bins_d_bary'+str(halo)+'.npy',DJ_DO_bins_bary_final_final_d)\n",
    "np.save(path+\"/\"+'DJ_DO_d_dark'+str(halo)+'.npy',DJ_dark_d)\n",
    "np.save(path+\"/\"+'DJ_DO_d_bary'+str(halo)+'.npy',DJ_bary_d) \n",
    "            \n",
    "    \n",
    "    \n",
    "plt.savefig(path +'dJ_DO_'+'DWAVE'+str(halo)+'.png',  bbox_inches='tight')\n",
    "plt.show()"
   ]
  },
  {
   "cell_type": "code",
   "execution_count": null,
   "metadata": {},
   "outputs": [],
   "source": []
  },
  {
   "cell_type": "code",
   "execution_count": null,
   "metadata": {},
   "outputs": [],
   "source": []
  },
  {
   "cell_type": "code",
   "execution_count": null,
   "metadata": {},
   "outputs": [],
   "source": []
  }
 ],
 "metadata": {
  "kernelspec": {
   "display_name": "Python 3",
   "language": "python",
   "name": "python3"
  },
  "language_info": {
   "codemirror_mode": {
    "name": "ipython",
    "version": 3
   },
   "file_extension": ".py",
   "mimetype": "text/x-python",
   "name": "python",
   "nbconvert_exporter": "python",
   "pygments_lexer": "ipython3",
   "version": "3.7.1"
  }
 },
 "nbformat": 4,
 "nbformat_minor": 2
}
